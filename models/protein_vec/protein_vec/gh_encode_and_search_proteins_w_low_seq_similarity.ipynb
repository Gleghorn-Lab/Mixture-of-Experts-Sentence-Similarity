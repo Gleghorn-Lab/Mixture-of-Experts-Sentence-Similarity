{
 "cells": [
  {
   "cell_type": "code",
   "execution_count": 1,
   "id": "d7c2da84-2365-4e17-9c47-75eee1823524",
   "metadata": {},
   "outputs": [
    {
     "name": "stderr",
     "output_type": "stream",
     "text": [
      "/mnt/home/thamamsy/projects/protein_vec/lib/environment/protein_vec_env/lib/python3.9/site-packages/tqdm/auto.py:21: TqdmWarning: IProgress not found. Please update jupyter and ipywidgets. See https://ipywidgets.readthedocs.io/en/stable/user_install.html\n",
      "  from .autonotebook import tqdm as notebook_tqdm\n"
     ]
    }
   ],
   "source": [
    "import numpy as np\n",
    "import pandas as pd\n",
    "import torch\n",
    "from torch.utils.data import Dataset\n",
    "from model_protein_moe import trans_basic_block, trans_basic_block_Config\n",
    "from utils_search import *\n",
    "from transformers import T5EncoderModel, T5Tokenizer\n",
    "import re\n",
    "import gc\n",
    "from sklearn.manifold import TSNE\n",
    "import matplotlib.pyplot as plt\n",
    "import seaborn as sns\n",
    "from Bio import SeqIO\n",
    "import pickle\n",
    "\n",
    "from pathlib import Path\n",
    "from dataclasses import dataclass\n",
    "from typing import Union, List, Tuple, Any, Dict, Optional\n",
    "import pickle\n",
    "import h5py\n",
    "import torch\n",
    "import numpy as np\n",
    "import pandas as pd\n",
    "from torch.utils.data import Dataset\n",
    "from collections import defaultdict\n",
    "import re\n",
    "from torch import nn\n",
    "from torch.utils.data import DataLoader\n",
    "import faiss\n",
    "import os\n",
    "from sklearn.metrics import f1_score, precision_score, recall_score\n",
    "\n",
    "device = torch.device('cuda:0' if torch.cuda.is_available() else 'cpu')"
   ]
  },
  {
   "cell_type": "code",
   "execution_count": 2,
   "id": "9a600f00-c74b-4637-9c03-2acb3add515e",
   "metadata": {},
   "outputs": [],
   "source": [
    "#Protein-Vec MOE model checkpoint and config\n",
    "vec_model_cpnt = '/mnt/home/thamamsy/ceph/protein_vec/models/model0.0001_dmodel512_nlayer2_moe_all/checkpoints/last-v1.ckpt'\n",
    "vec_model_config = '/mnt/home/thamamsy/ceph/protein_vec/models/model0.0001_dmodel512_nlayer2_moe_all/params.json'"
   ]
  },
  {
   "cell_type": "code",
   "execution_count": 3,
   "id": "f7fc0ff9-1315-4f11-a29a-da5fa7f1a32c",
   "metadata": {},
   "outputs": [
    {
     "name": "stderr",
     "output_type": "stream",
     "text": [
      "You are using the default legacy behaviour of the <class 'transformers.models.t5.tokenization_t5.T5Tokenizer'>. This is expected, and simply means that the `legacy` (previous) behavior will be used so nothing changes for you. If you want to use the new behaviour, set `legacy=False`. This should only be set if you understand what it means, and thouroughly read the reason why this was added as explained in https://github.com/huggingface/transformers/pull/24565\n"
     ]
    }
   ],
   "source": [
    "#Load the ProtTrans model and ProtTrans tokenizer\n",
    "tokenizer = T5Tokenizer.from_pretrained(\"Rostlab/prot_t5_xl_uniref50\", do_lower_case=False )\n",
    "model = T5EncoderModel.from_pretrained(\"Rostlab/prot_t5_xl_uniref50\")\n",
    "gc.collect()\n",
    "\n",
    "model = model.to(device)\n",
    "model = model.eval()"
   ]
  },
  {
   "cell_type": "code",
   "execution_count": 4,
   "id": "5771ef42-4c25-4715-b5bd-ce8d736e803c",
   "metadata": {},
   "outputs": [
    {
     "name": "stderr",
     "output_type": "stream",
     "text": [
      "Lightning automatically upgraded your loaded checkpoint from v1.8.0rc0 to v1.9.4. To apply the upgrade to your files permanently, run `python -m pytorch_lightning.utilities.upgrade_checkpoint --file ../../../public_www/tm_vec_swiss_model_large.ckpt`\n"
     ]
    }
   ],
   "source": [
    "#Load the model\n",
    "vec_model_config = trans_basic_block_Config.from_json(vec_model_config)\n",
    "model_deep = trans_basic_block.load_from_checkpoint(vec_model_cpnt, config=vec_model_config)\n",
    "model_deep = model_deep.to(device)\n",
    "model_deep = model_deep.eval()"
   ]
  },
  {
   "cell_type": "code",
   "execution_count": 5,
   "id": "0bfe593d-87de-47ea-b2e6-f73cce9655ab",
   "metadata": {},
   "outputs": [],
   "source": [
    "### Evaluate based on sequence similarity \n",
    "# Load in uniprot meta data\n",
    "meta_data_new = pd.read_csv('/mnt/home/thamamsy/ceph/protein_vec/data/uniprot_data/uniprotkb_AND_reviewed_true_2023_07_03.tsv', sep='\\t')\n",
    "\n",
    "#Load \n",
    "held_out_50 = np.load('/mnt/home/thamamsy/ceph/protein_vec/data/uniprot_data/training_splits/mmseq_splits/held_out_50_proteins.npy', allow_pickle=True)\n",
    "held_out_20 = np.load('/mnt/home/thamamsy/ceph/protein_vec/data/uniprot_data/training_splits/mmseq_splits/held_out_20_proteins.npy', allow_pickle=True)\n",
    "\n",
    "held_out_50_proteins = meta_data_new[meta_data_new['Entry'].isin(held_out_50)]\n",
    "held_out_20_proteins = meta_data_new[meta_data_new['Entry'].isin(held_out_20)]"
   ]
  },
  {
   "cell_type": "code",
   "execution_count": 10,
   "id": "23b7cf95-94df-49c8-b703-6cbdab9a4086",
   "metadata": {},
   "outputs": [],
   "source": [
    "####### Can change this here for 50 vs. 20\n",
    "###############################################\n",
    "data_subset = held_out_50_proteins.reset_index()"
   ]
  },
  {
   "cell_type": "code",
   "execution_count": 11,
   "id": "617da848-560c-4f95-8b0f-fedd31dbcfd9",
   "metadata": {},
   "outputs": [
    {
     "name": "stdout",
     "output_type": "stream",
     "text": [
      "Number of proteins\n"
     ]
    },
    {
     "data": {
      "text/plain": [
       "5191"
      ]
     },
     "execution_count": 11,
     "metadata": {},
     "output_type": "execute_result"
    }
   ],
   "source": [
    "print('Number of proteins')\n",
    "len(data_subset)"
   ]
  },
  {
   "cell_type": "code",
   "execution_count": 12,
   "id": "33a8b21d-8bf0-4e41-b2c4-3e2d69e330c4",
   "metadata": {
    "tags": []
   },
   "outputs": [
    {
     "name": "stderr",
     "output_type": "stream",
     "text": [
      "/mnt/home/thamamsy/projects/protein_vec/lib/environment/protein_vec_env/lib/python3.9/site-packages/torch/nn/modules/transformer.py:296: UserWarning: The PyTorch API of nested tensors is in prototype stage and will change in the near future. (Triggered internally at ../aten/src/ATen/NestedTensorImpl.cpp:177.)\n",
      "  output = torch._nested_tensor_from_mask(output, src_key_padding_mask.logical_not(), mask_check=False)\n"
     ]
    },
    {
     "name": "stdout",
     "output_type": "stream",
     "text": [
      "200\n",
      "400\n",
      "600\n",
      "800\n",
      "1000\n",
      "1200\n",
      "1400\n",
      "1600\n",
      "1800\n",
      "2000\n",
      "2200\n",
      "2400\n",
      "2600\n",
      "2800\n",
      "3000\n",
      "3200\n",
      "3400\n",
      "3600\n",
      "3800\n",
      "4000\n",
      "4200\n",
      "4400\n",
      "4600\n",
      "4800\n",
      "5000\n"
     ]
    }
   ],
   "source": [
    "# This is a forward pass of the Protein-Vec model\n",
    "# Every aspect turned on\n",
    "sampled_keys = np.array(['TM', 'PFAM', 'GENE3D', 'ENZYME', 'MFO', 'BPO', 'CCO'])\n",
    "all_cols = np.array(['TM', 'PFAM', 'GENE3D', 'ENZYME', 'MFO', 'BPO', 'CCO'])\n",
    "\n",
    "masks = [all_cols[k] in sampled_keys for k in range(len(all_cols))]\n",
    "masks = torch.logical_not(torch.tensor(masks, dtype=torch.bool))[None,:]\n",
    "\n",
    "#Pull out sequences for the new proteins\n",
    "flat_seqs = data_subset['Sequence'].values\n",
    "\n",
    "#Loop through the sequences and embed them using protein-vec\n",
    "i = 0\n",
    "embed_all_sequences = []\n",
    "while i < len(flat_seqs): \n",
    "    protrans_sequence = featurize_prottrans(flat_seqs[i:i+1], model, tokenizer, device)\n",
    "    embedded_sequence = embed_vec(protrans_sequence, model_deep, masks, device)\n",
    "    embed_all_sequences.append(embedded_sequence)\n",
    "    i = i + 1\n",
    "    \n",
    "    if i % 200 == 0:\n",
    "        print(i)\n",
    "        \n",
    "query_embeddings = np.concatenate(embed_all_sequences)"
   ]
  },
  {
   "cell_type": "code",
   "execution_count": null,
   "id": "9ac6038d-d897-4d0c-8a3a-e59248cebdaf",
   "metadata": {},
   "outputs": [],
   "source": []
  },
  {
   "cell_type": "markdown",
   "id": "78713307-6ed2-435a-9389-18bb35902269",
   "metadata": {},
   "source": [
    "Now that we have embeddings for the proteins with low sequence similarity to our training proteins, we can visualize them after performing TSNE, and we can transfer annotations to them as well"
   ]
  },
  {
   "cell_type": "code",
   "execution_count": 14,
   "id": "80aa34c5-d700-4320-af0d-d849636a4ce4",
   "metadata": {
    "tags": []
   },
   "outputs": [],
   "source": [
    "#Perform TSNE on the embedding vectors\n",
    "all_X_embedded = TSNE(n_components=2, learning_rate='auto', init='random').fit_transform(query_embeddings)\n",
    "all_X_embedded_df = pd.DataFrame(all_X_embedded)\n",
    "all_X_embedded_df.columns = [\"Dim1\", \"Dim2\"]\n",
    "all_X_embedded_df['Pfam'] = data_subset['Pfam'].values\n",
    "all_X_embedded_df['EC'] = data_subset['EC number'].values"
   ]
  },
  {
   "cell_type": "code",
   "execution_count": 15,
   "id": "62818905-93bf-45b4-9d21-8842788b4a14",
   "metadata": {
    "tags": []
   },
   "outputs": [
    {
     "data": {
      "text/plain": [
       "<seaborn.axisgrid.FacetGrid at 0x15512aa226d0>"
      ]
     },
     "execution_count": 15,
     "metadata": {},
     "output_type": "execute_result"
    },
    {
     "data": {
      "image/png": "[encoded data removed]",
      "text/plain": [
       "<Figure size 691x500 with 1 Axes>"
      ]
     },
     "metadata": {},
     "output_type": "display_data"
    }
   ],
   "source": [
    "#For visualization purposes, filter for the top 20 EC terms\n",
    "top_ranks = list(all_X_embedded_df['EC'].value_counts()[0:20].index)\n",
    "sns.lmplot(x=\"Dim1\", y=\"Dim2\", data=all_X_embedded_df[all_X_embedded_df['EC'].isin(top_ranks)], hue=\"EC\", fit_reg=False)\n"
   ]
  },
  {
   "cell_type": "code",
   "execution_count": 16,
   "id": "91bb6977-b852-4cf8-8c29-62ffe56358d1",
   "metadata": {
    "tags": []
   },
   "outputs": [],
   "source": [
    "################## Load the lookup database of all embeddings (note that we will pull out only embeddings from proteins that were trained on)\n",
    "embeddings = np.load('/mnt/home/thamamsy/projects/protein-vec/data/lookup_embeddings.npy')\n",
    "lookup_proteins_meta = pd.read_csv('/mnt/home/thamamsy/projects/protein-vec/data/lookup_embeddings_meta_data.tsv', sep=\"\\t\")\n"
   ]
  },
  {
   "cell_type": "markdown",
   "id": "da53d555-a20b-43c0-8140-15b88637e3a2",
   "metadata": {
    "tags": []
   },
   "source": [
    "We can run search and the nearest neighbor pipeline for any of our available aspects\n",
    " - 'Gene Ontology (biological process)'\n",
    " - 'Gene Ontology (molecular function)' \n",
    " - 'Gene Ontology (cellular component)' \n",
    " - 'Gene3D' \n",
    " - 'Pfam' \n",
    " - 'EC number'"
   ]
  },
  {
   "cell_type": "code",
   "execution_count": 17,
   "id": "03cd96ff-0f0a-4af5-a3d6-b599b1608443",
   "metadata": {},
   "outputs": [],
   "source": [
    "#Switch this for whichever aspect you want to perform search for\n",
    "############### User parameter\n",
    "column = 'Gene Ontology (biological process)'"
   ]
  },
  {
   "cell_type": "code",
   "execution_count": 18,
   "id": "ccee8331-342c-4acf-b441-decd61c0b717",
   "metadata": {},
   "outputs": [],
   "source": [
    "# Filter for lookup proteins with annotations for the relavant aspect (don't want to transfer null annotations)\n",
    "col_lookup = lookup_proteins_meta[~lookup_proteins_meta[column].isnull()]\n",
    "col_lookup_embeddings = embeddings[col_lookup.index]\n",
    "col_meta_data = col_lookup[column].values\n",
    "\n",
    "# load database\n",
    "lookup_database = load_database(col_lookup_embeddings)\n",
    "\n",
    "# Query for the 1st nearest neighbor\n",
    "k = 1\n",
    "D, I = query(lookup_database, query_embeddings, k)\n",
    "\n",
    "#Get metadata for the 1st nearest neighbor\n",
    "near_ids = []\n",
    "for i in range(I.shape[0]):\n",
    "    meta = col_meta_data[I[i]]\n",
    "    near_ids.append(list(meta))       \n",
    "\n",
    "near_ids = np.array(near_ids)"
   ]
  },
  {
   "cell_type": "code",
   "execution_count": 19,
   "id": "dbef3ae1-92a8-4618-90d4-7847c022c638",
   "metadata": {
    "tags": []
   },
   "outputs": [
    {
     "name": "stdout",
     "output_type": "stream",
     "text": [
      "Annotations for the nearest neighbors (with aspect annotations) of newly discovered proteins\n",
      "[['determination of adult lifespan [GO:0008340]; innate immune response [GO:0045087]; magnesium ion homeostasis [GO:0010960]; magnesium ion transport [GO:0015693]; positive regulation of gonad development [GO:1905941]; positive regulation of multicellular organism growth [GO:0040018]; positive regulation of vulval development [GO:0040026]; response to magnesium ion [GO:0032026]']\n",
      " ['fatty acid metabolic process [GO:0006631]; sphingolipid metabolic process [GO:0006665]']\n",
      " ['endoplasmic reticulum unfolded protein response [GO:0030968]; lipoprotein metabolic process [GO:0042157]; lipoprotein transport [GO:0042953]; plasma lipoprotein particle assembly [GO:0034377]']\n",
      " ...\n",
      " ['deoxyribonucleotide catabolic process [GO:0009264]']\n",
      " ['ubiquinone biosynthetic process [GO:0006744]']\n",
      " ['archaeal or bacterial-type flagellum-dependent cell motility [GO:0097588]']]\n"
     ]
    }
   ],
   "source": [
    "print(\"Annotations for the nearest neighbors (with aspect annotations) of newly discovered proteins\")\n",
    "print(near_ids)"
   ]
  },
  {
   "cell_type": "code",
   "execution_count": 21,
   "id": "05b49028-2739-4a91-9c2b-4114a70f6a24",
   "metadata": {},
   "outputs": [],
   "source": [
    "# Calculate the recall (sensitivity) performance results for every aspect\n",
    "if column == 'EC number':\n",
    "    ground_meta_data = data_subset[(~data_subset[column].isnull()) & (~data_subset[column].astype(str).str.contains('-', regex=False))]\n",
    "else:\n",
    "    ground_meta_data = data_subset[(~data_subset[column].isnull())]\n",
    "\n",
    "rel_col = ground_meta_data[column].values\n",
    "relevant_indices = np.array(list(ground_meta_data.index))\n",
    "relevant_near_ids = near_ids[relevant_indices]\n",
    "relevant_D = D[relevant_indices]\n",
    "\n",
    "#this calculates exact match\n",
    "intersection = []\n",
    "for i in range(len(rel_col)):\n",
    "    p1s = set(rel_col[i].split(\";\"))\n",
    "    p1s = {item for item in p1s if item != \"\"}\n",
    "    p2s = set(relevant_near_ids[i,0].split(\";\"))\n",
    "    p2s = {item for item in p2s if item != \"\"}\n",
    "    inter = len(list(p1s & p2s))\n",
    "    acc = inter/len(p1s)\n",
    "    intersection.append(acc)\n",
    "\n",
    "    \n",
    "#Exact match accuracy\n",
    "exact_matches = 0\n",
    "for i in range(len(rel_col)):\n",
    "    p1s = set(rel_col[i].split(\";\"))\n",
    "    p2s = set(relevant_near_ids[i,0].split(\";\"))\n",
    "    if p1s == p2s:\n",
    "        exact_matches += 1"
   ]
  },
  {
   "cell_type": "code",
   "execution_count": 24,
   "id": "06fe1b00-fed6-44bf-94fc-3912a40af20f",
   "metadata": {},
   "outputs": [
    {
     "name": "stdout",
     "output_type": "stream",
     "text": [
      "Gene Ontology (biological process): Recall of protein MOE model for annotating proteins with sequence similarity below 50%\n",
      "0.7533442184946648\n"
     ]
    }
   ],
   "source": [
    "print(\"Gene Ontology (biological process): Recall of protein MOE model for annotating proteins with sequence similarity below 50%\")\n",
    "print(np.mean(np.array(intersection)))"
   ]
  },
  {
   "cell_type": "code",
   "execution_count": 25,
   "id": "6b5fb4f1-3f10-49a8-ba79-4afb7a4f6d3c",
   "metadata": {},
   "outputs": [
    {
     "name": "stdout",
     "output_type": "stream",
     "text": [
      "Gene Ontology (biological process): Exact match accuracy of protein MOE model for annotating proteins with sequence similarity below 50%\n",
      "0.6657317695053544\n"
     ]
    }
   ],
   "source": [
    "print(\"Gene Ontology (biological process): Exact match accuracy of protein MOE model for annotating proteins with sequence similarity below 50%\")\n",
    "print(exact_matches/len(rel_col))"
   ]
  },
  {
   "cell_type": "code",
   "execution_count": null,
   "id": "854ea700-5661-4097-a9fb-223760663102",
   "metadata": {},
   "outputs": [],
   "source": []
  }
 ],
 "metadata": {
  "kernelspec": {
   "display_name": "protein_vec_env",
   "language": "python",
   "name": "protein_vec_env"
  },
  "language_info": {
   "codemirror_mode": {
    "name": "ipython",
    "version": 3
   },
   "file_extension": ".py",
   "mimetype": "text/x-python",
   "name": "python",
   "nbconvert_exporter": "python",
   "pygments_lexer": "ipython3",
   "version": "3.9.15"
  }
 },
 "nbformat": 4,
 "nbformat_minor": 5
}
