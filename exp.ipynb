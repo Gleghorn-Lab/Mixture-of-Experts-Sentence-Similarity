{
 "cells": [
  {
   "cell_type": "code",
   "execution_count": null,
   "metadata": {},
   "outputs": [],
   "source": [
    "%run main --yaml_path yamls/protein_vec.yaml"
   ]
  },
  {
   "cell_type": "code",
   "execution_count": null,
   "metadata": {},
   "outputs": [],
   "source": [
    "%run main.py --eval --yaml_path yamls/benchmarking/esm_sim_benchmark_8.yaml"
   ]
  },
  {
   "cell_type": "code",
   "execution_count": null,
   "metadata": {},
   "outputs": [],
   "source": [
    "%run main.py --eval --yaml_path yamls/benchmarking/esm_sim_benchmark_35.yaml"
   ]
  },
  {
   "cell_type": "code",
   "execution_count": null,
   "metadata": {},
   "outputs": [],
   "source": [
    "%run main.py --eval --yaml_path yamls/benchmarking/esm_sim_benchmark_150.yaml"
   ]
  },
  {
   "cell_type": "code",
   "execution_count": null,
   "metadata": {},
   "outputs": [],
   "source": [
    "%run main.py --eval --yaml_path yamls/benchmarking/esm_sim_benchmark_650.yaml"
   ]
  },
  {
   "cell_type": "code",
   "execution_count": null,
   "metadata": {},
   "outputs": [],
   "source": [
    "import torch\n",
    "from transformers import BertConfig, BertTokenizer\n",
    "from models.model_zoo import *\n",
    "from utils import get_yaml\n",
    "from glob import glob"
   ]
  },
  {
   "cell_type": "code",
   "execution_count": null,
   "metadata": {},
   "outputs": [],
   "source": [
    "from huggingface_hub import notebook_login\n",
    "notebook_login()"
   ]
  },
  {
   "cell_type": "code",
   "execution_count": null,
   "metadata": {},
   "outputs": [],
   "source": [
    "yargs = get_yaml('yamls/SE/cvd.yaml')\n",
    "config = BertConfig.from_pretrained(yargs['general_args']['model_path'])\n",
    "for key, value in yargs['general_args'].items(): # copy yaml config into args\n",
    "    setattr(config, key, value)\n"
   ]
  },
  {
   "cell_type": "code",
   "execution_count": null,
   "metadata": {},
   "outputs": [],
   "source": [
    "weights = [path.replace('\\\\', '/') for path in glob('./weights/*.pt')]\n",
    "weights"
   ]
  },
  {
   "cell_type": "code",
   "execution_count": null,
   "metadata": {},
   "outputs": [],
   "source": [
    "paths = []\n",
    "for weight in weights:\n",
    "    model = torch.load(weight)\n",
    "    try:\n",
    "        model.config = model.bert.config\n",
    "    except:\n",
    "        print(weight)\n",
    "        continue\n",
    "    path = 'lhallee/' + weight.split('/')[-1].split('.pt')[0]\n",
    "    paths.append(path)\n",
    "    #model.push_to_hub(path)"
   ]
  },
  {
   "cell_type": "code",
   "execution_count": null,
   "metadata": {},
   "outputs": [],
   "source": [
    "tokenizer = BertTokenizer.from_pretrained('results/NLP_MOE')"
   ]
  },
  {
   "cell_type": "code",
   "execution_count": null,
   "metadata": {},
   "outputs": [],
   "source": [
    "for path in paths:\n",
    "    tokenizer.push_to_hub(path)"
   ]
  },
  {
   "cell_type": "code",
   "execution_count": null,
   "metadata": {},
   "outputs": [],
   "source": [
    "tokenizer = BertTokenizer.from_pretrained('lhallee/sci_moe_all')"
   ]
  },
  {
   "cell_type": "code",
   "execution_count": null,
   "metadata": {},
   "outputs": [],
   "source": [
    "tokenizer.push_to_hub('lhallee/all_nlp_singlemoe_MI')"
   ]
  },
  {
   "cell_type": "code",
   "execution_count": 1,
   "metadata": {},
   "outputs": [],
   "source": [
    "from models.protein_vec.src_run.huggingface_protein_vec import ProteinVec, ProteinVecConfig"
   ]
  },
  {
   "cell_type": "code",
   "execution_count": 2,
   "metadata": {},
   "outputs": [
    {
     "name": "stderr",
     "output_type": "stream",
     "text": [
      "Lightning automatically upgraded your loaded checkpoint from v1.9.4 to v2.2.0.post0. To apply the upgrade to your files permanently, run `python -m pytorch_lightning.utilities.upgrade_checkpoint c:\\Users\\lhall\\Desktop\\Research\\Mixture-of-Experts-Sentence-Similarity\\models\\protein_vec\\src_run\\protein_vec_models\\protein_vec.ckpt`\n"
     ]
    },
    {
     "ename": "RuntimeError",
     "evalue": "Error(s) in loading state_dict for HF_trans_basic_block:\n\tUnexpected key(s) in state_dict: \"model_aspect_tmvec.encoder.layers.2.self_attn.in_proj_weight\", \"model_aspect_tmvec.encoder.layers.2.self_attn.in_proj_bias\", \"model_aspect_tmvec.encoder.layers.2.self_attn.out_proj.weight\", \"model_aspect_tmvec.encoder.layers.2.self_attn.out_proj.bias\", \"model_aspect_tmvec.encoder.layers.2.linear1.weight\", \"model_aspect_tmvec.encoder.layers.2.linear1.bias\", \"model_aspect_tmvec.encoder.layers.2.linear2.weight\", \"model_aspect_tmvec.encoder.layers.2.linear2.bias\", \"model_aspect_tmvec.encoder.layers.2.norm1.weight\", \"model_aspect_tmvec.encoder.layers.2.norm1.bias\", \"model_aspect_tmvec.encoder.layers.2.norm2.weight\", \"model_aspect_tmvec.encoder.layers.2.norm2.bias\", \"model_aspect_tmvec.encoder.layers.3.self_attn.in_proj_weight\", \"model_aspect_tmvec.encoder.layers.3.self_attn.in_proj_bias\", \"model_aspect_tmvec.encoder.layers.3.self_attn.out_proj.weight\", \"model_aspect_tmvec.encoder.layers.3.self_attn.out_proj.bias\", \"model_aspect_tmvec.encoder.layers.3.linear1.weight\", \"model_aspect_tmvec.encoder.layers.3.linear1.bias\", \"model_aspect_tmvec.encoder.layers.3.linear2.weight\", \"model_aspect_tmvec.encoder.layers.3.linear2.bias\", \"model_aspect_tmvec.encoder.layers.3.norm1.weight\", \"model_aspect_tmvec.encoder.layers.3.norm1.bias\", \"model_aspect_tmvec.encoder.layers.3.norm2.weight\", \"model_aspect_tmvec.encoder.layers.3.norm2.bias\", \"model_aspect_mfo.encoder.layers.2.self_attn.in_proj_weight\", \"model_aspect_mfo.encoder.layers.2.self_attn.in_proj_bias\", \"model_aspect_mfo.encoder.layers.2.self_attn.out_proj.weight\", \"model_aspect_mfo.encoder.layers.2.self_attn.out_proj.bias\", \"model_aspect_mfo.encoder.layers.2.linear1.weight\", \"model_aspect_mfo.encoder.layers.2.linear1.bias\", \"model_aspect_mfo.encoder.layers.2.linear2.weight\", \"model_aspect_mfo.encoder.layers.2.linear2.bias\", \"model_aspect_mfo.encoder.layers.2.norm1.weight\", \"model_aspect_mfo.encoder.layers.2.norm1.bias\", \"model_aspect_mfo.encoder.layers.2.norm2.weight\", \"model_aspect_mfo.encoder.layers.2.norm2.bias\", \"model_aspect_mfo.encoder.layers.3.self_attn.in_proj_weight\", \"model_aspect_mfo.encoder.layers.3.self_attn.in_proj_bias\", \"model_aspect_mfo.encoder.layers.3.self_attn.out_proj.weight\", \"model_aspect_mfo.encoder.layers.3.self_attn.out_proj.bias\", \"model_aspect_mfo.encoder.layers.3.linear1.weight\", \"model_aspect_mfo.encoder.layers.3.linear1.bias\", \"model_aspect_mfo.encoder.layers.3.linear2.weight\", \"model_aspect_mfo.encoder.layers.3.linear2.bias\", \"model_aspect_mfo.encoder.layers.3.norm1.weight\", \"model_aspect_mfo.encoder.layers.3.norm1.bias\", \"model_aspect_mfo.encoder.layers.3.norm2.weight\", \"model_aspect_mfo.encoder.layers.3.norm2.bias\", \"model_aspect_bpo.encoder.layers.2.self_attn.in_proj_weight\", \"model_aspect_bpo.encoder.layers.2.self_attn.in_proj_bias\", \"model_aspect_bpo.encoder.layers.2.self_attn.out_proj.weight\", \"model_aspect_bpo.encoder.layers.2.self_attn.out_proj.bias\", \"model_aspect_bpo.encoder.layers.2.linear1.weight\", \"model_aspect_bpo.encoder.layers.2.linear1.bias\", \"model_aspect_bpo.encoder.layers.2.linear2.weight\", \"model_aspect_bpo.encoder.layers.2.linear2.bias\", \"model_aspect_bpo.encoder.layers.2.norm1.weight\", \"model_aspect_bpo.encoder.layers.2.norm1.bias\", \"model_aspect_bpo.encoder.layers.2.norm2.weight\", \"model_aspect_bpo.encoder.layers.2.norm2.bias\", \"model_aspect_bpo.encoder.layers.3.self_attn.in_proj_weight\", \"model_aspect_bpo.encoder.layers.3.self_attn.in_proj_bias\", \"model_aspect_bpo.encoder.layers.3.self_attn.out_proj.weight\", \"model_aspect_bpo.encoder.layers.3.self_attn.out_proj.bias\", \"model_aspect_bpo.encoder.layers.3.linear1.weight\", \"model_aspect_bpo.encoder.layers.3.linear1.bias\", \"model_aspect_bpo.encoder.layers.3.linear2.weight\", \"model_aspect_bpo.encoder.layers.3.linear2.bias\", \"model_aspect_bpo.encoder.layers.3.norm1.weight\", \"model_aspect_bpo.encoder.layers.3.norm1.bias\", \"model_aspect_bpo.encoder.layers.3.norm2.weight\", \"model_aspect_bpo.encoder.layers.3.norm2.bias\", \"model_aspect_cco.encoder.layers.2.self_attn.in_proj_weight\", \"model_aspect_cco.encoder.layers.2.self_attn.in_proj_bias\", \"model_aspect_cco.encoder.layers.2.self_attn.out_proj.weight\", \"model_aspect_cco.encoder.layers.2.self_attn.out_proj.bias\", \"model_aspect_cco.encoder.layers.2.linear1.weight\", \"model_aspect_cco.encoder.layers.2.linear1.bias\", \"model_aspect_cco.encoder.layers.2.linear2.weight\", \"model_aspect_cco.encoder.layers.2.linear2.bias\", \"model_aspect_cco.encoder.layers.2.norm1.weight\", \"model_aspect_cco.encoder.layers.2.norm1.bias\", \"model_aspect_cco.encoder.layers.2.norm2.weight\", \"model_aspect_cco.encoder.layers.2.norm2.bias\", \"model_aspect_cco.encoder.layers.3.self_attn.in_proj_weight\", \"model_aspect_cco.encoder.layers.3.self_attn.in_proj_bias\", \"model_aspect_cco.encoder.layers.3.self_attn.out_proj.weight\", \"model_aspect_cco.encoder.layers.3.self_attn.out_proj.bias\", \"model_aspect_cco.encoder.layers.3.linear1.weight\", \"model_aspect_cco.encoder.layers.3.linear1.bias\", \"model_aspect_cco.encoder.layers.3.linear2.weight\", \"model_aspect_cco.encoder.layers.3.linear2.bias\", \"model_aspect_cco.encoder.layers.3.norm1.weight\", \"model_aspect_cco.encoder.layers.3.norm1.bias\", \"model_aspect_cco.encoder.layers.3.norm2.weight\", \"model_aspect_cco.encoder.layers.3.norm2.bias\". ",
     "output_type": "error",
     "traceback": [
      "\u001b[1;31m---------------------------------------------------------------------------\u001b[0m",
      "\u001b[1;31mRuntimeError\u001b[0m                              Traceback (most recent call last)",
      "Cell \u001b[1;32mIn[2], line 2\u001b[0m\n\u001b[0;32m      1\u001b[0m disk_model \u001b[38;5;241m=\u001b[39m ProteinVec(config\u001b[38;5;241m=\u001b[39mProteinVecConfig())\n\u001b[1;32m----> 2\u001b[0m \u001b[43mdisk_model\u001b[49m\u001b[38;5;241;43m.\u001b[39;49m\u001b[43mload_from_disk\u001b[49m\u001b[43m(\u001b[49m\u001b[43m)\u001b[49m\n",
      "File \u001b[1;32mc:\\Users\\lhall\\Desktop\\Research\\Mixture-of-Experts-Sentence-Similarity\\models\\protein_vec\\src_run\\huggingface_protein_vec.py:381\u001b[0m, in \u001b[0;36mProteinVec.load_from_disk\u001b[1;34m(self, aspect_path, t5_path)\u001b[0m\n\u001b[0;32m    378\u001b[0m \u001b[38;5;28;01mdef\u001b[39;00m \u001b[38;5;21mload_from_disk\u001b[39m(\u001b[38;5;28mself\u001b[39m,\n\u001b[0;32m    379\u001b[0m                    aspect_path\u001b[38;5;241m=\u001b[39m\u001b[38;5;124m'\u001b[39m\u001b[38;5;124mmodels/protein_vec/src_run/protein_vec_models\u001b[39m\u001b[38;5;124m'\u001b[39m,\n\u001b[0;32m    380\u001b[0m                    t5_path\u001b[38;5;241m=\u001b[39m\u001b[38;5;124m'\u001b[39m\u001b[38;5;124mlhallee/prot_t5_enc\u001b[39m\u001b[38;5;124m'\u001b[39m):\n\u001b[1;32m--> 381\u001b[0m     \u001b[38;5;28mself\u001b[39m\u001b[38;5;241m.\u001b[39mmoe \u001b[38;5;241m=\u001b[39m \u001b[43mHF_trans_basic_block\u001b[49m\u001b[38;5;241;43m.\u001b[39;49m\u001b[43mload_from_checkpoint\u001b[49m\u001b[43m(\u001b[49m\n\u001b[0;32m    382\u001b[0m \u001b[43m        \u001b[49m\u001b[43mos\u001b[49m\u001b[38;5;241;43m.\u001b[39;49m\u001b[43mpath\u001b[49m\u001b[38;5;241;43m.\u001b[39;49m\u001b[43mjoin\u001b[49m\u001b[43m(\u001b[49m\u001b[43maspect_path\u001b[49m\u001b[43m,\u001b[49m\u001b[43m \u001b[49m\u001b[38;5;124;43m'\u001b[39;49m\u001b[38;5;124;43mprotein_vec.ckpt\u001b[39;49m\u001b[38;5;124;43m'\u001b[39;49m\u001b[43m)\u001b[49m\u001b[43m,\u001b[49m\n\u001b[0;32m    383\u001b[0m \u001b[43m        \u001b[49m\u001b[43mconfig\u001b[49m\u001b[38;5;241;43m=\u001b[39;49m\u001b[43mBasicConfig\u001b[49m\u001b[38;5;241;43m.\u001b[39;49m\u001b[43mfrom_huggingface\u001b[49m\u001b[43m(\u001b[49m\u001b[38;5;124;43m'\u001b[39;49m\u001b[38;5;124;43mvec\u001b[39;49m\u001b[38;5;124;43m'\u001b[39;49m\u001b[43m,\u001b[49m\u001b[43m \u001b[49m\u001b[38;5;28;43mself\u001b[39;49m\u001b[38;5;241;43m.\u001b[39;49m\u001b[43mconfig\u001b[49m\u001b[43m)\u001b[49m\n\u001b[0;32m    384\u001b[0m \u001b[43m    \u001b[49m\u001b[43m)\u001b[49m\n\u001b[0;32m    386\u001b[0m     \u001b[38;5;28mself\u001b[39m\u001b[38;5;241m.\u001b[39mmoe\u001b[38;5;241m.\u001b[39mmodel_aspect_tmvec \u001b[38;5;241m=\u001b[39m trans_basic_block_tmvec\u001b[38;5;241m.\u001b[39mload_from_checkpoint(\n\u001b[0;32m    387\u001b[0m         os\u001b[38;5;241m.\u001b[39mpath\u001b[38;5;241m.\u001b[39mjoin(aspect_path, \u001b[38;5;124m'\u001b[39m\u001b[38;5;124mtm_vec_swiss_model_large.ckpt\u001b[39m\u001b[38;5;124m'\u001b[39m),\n\u001b[0;32m    388\u001b[0m         config\u001b[38;5;241m=\u001b[39mTmConfig\u001b[38;5;241m.\u001b[39mfrom_huggingface(\u001b[38;5;124m'\u001b[39m\u001b[38;5;124mtm\u001b[39m\u001b[38;5;124m'\u001b[39m, \u001b[38;5;28mself\u001b[39m\u001b[38;5;241m.\u001b[39mconfig)\n\u001b[0;32m    389\u001b[0m     )\n\u001b[0;32m    390\u001b[0m     \u001b[38;5;28mself\u001b[39m\u001b[38;5;241m.\u001b[39mmoe\u001b[38;5;241m.\u001b[39mmodel_aspect_pfam \u001b[38;5;241m=\u001b[39m trans_basic_block_single\u001b[38;5;241m.\u001b[39mload_from_checkpoint(\n\u001b[0;32m    391\u001b[0m         os\u001b[38;5;241m.\u001b[39mpath\u001b[38;5;241m.\u001b[39mjoin(aspect_path, \u001b[38;5;124m'\u001b[39m\u001b[38;5;124maspect_vec_pfam.ckpt\u001b[39m\u001b[38;5;124m'\u001b[39m),\n\u001b[0;32m    392\u001b[0m         config\u001b[38;5;241m=\u001b[39mSingleConfig\u001b[38;5;241m.\u001b[39mfrom_huggingface(\u001b[38;5;124m'\u001b[39m\u001b[38;5;124mpfam\u001b[39m\u001b[38;5;124m'\u001b[39m, \u001b[38;5;28mself\u001b[39m\u001b[38;5;241m.\u001b[39mconfig)\n\u001b[0;32m    393\u001b[0m     )\n",
      "File \u001b[1;32mc:\\Users\\lhall\\AppData\\Local\\Programs\\Python\\Python311\\Lib\\site-packages\\pytorch_lightning\\utilities\\model_helpers.py:125\u001b[0m, in \u001b[0;36m_restricted_classmethod_impl.__get__.<locals>.wrapper\u001b[1;34m(*args, **kwargs)\u001b[0m\n\u001b[0;32m    120\u001b[0m \u001b[38;5;28;01mif\u001b[39;00m instance \u001b[38;5;129;01mis\u001b[39;00m \u001b[38;5;129;01mnot\u001b[39;00m \u001b[38;5;28;01mNone\u001b[39;00m \u001b[38;5;129;01mand\u001b[39;00m \u001b[38;5;129;01mnot\u001b[39;00m is_scripting:\n\u001b[0;32m    121\u001b[0m     \u001b[38;5;28;01mraise\u001b[39;00m \u001b[38;5;167;01mTypeError\u001b[39;00m(\n\u001b[0;32m    122\u001b[0m         \u001b[38;5;124mf\u001b[39m\u001b[38;5;124m\"\u001b[39m\u001b[38;5;124mThe classmethod `\u001b[39m\u001b[38;5;132;01m{\u001b[39;00m\u001b[38;5;28mcls\u001b[39m\u001b[38;5;241m.\u001b[39m\u001b[38;5;18m__name__\u001b[39m\u001b[38;5;132;01m}\u001b[39;00m\u001b[38;5;124m.\u001b[39m\u001b[38;5;132;01m{\u001b[39;00m\u001b[38;5;28mself\u001b[39m\u001b[38;5;241m.\u001b[39mmethod\u001b[38;5;241m.\u001b[39m\u001b[38;5;18m__name__\u001b[39m\u001b[38;5;132;01m}\u001b[39;00m\u001b[38;5;124m` cannot be called on an instance.\u001b[39m\u001b[38;5;124m\"\u001b[39m\n\u001b[0;32m    123\u001b[0m         \u001b[38;5;124m\"\u001b[39m\u001b[38;5;124m Please call it on the class type and make sure the return value is used.\u001b[39m\u001b[38;5;124m\"\u001b[39m\n\u001b[0;32m    124\u001b[0m     )\n\u001b[1;32m--> 125\u001b[0m \u001b[38;5;28;01mreturn\u001b[39;00m \u001b[38;5;28;43mself\u001b[39;49m\u001b[38;5;241;43m.\u001b[39;49m\u001b[43mmethod\u001b[49m\u001b[43m(\u001b[49m\u001b[38;5;28;43mcls\u001b[39;49m\u001b[43m,\u001b[49m\u001b[43m \u001b[49m\u001b[38;5;241;43m*\u001b[39;49m\u001b[43margs\u001b[49m\u001b[43m,\u001b[49m\u001b[43m \u001b[49m\u001b[38;5;241;43m*\u001b[39;49m\u001b[38;5;241;43m*\u001b[39;49m\u001b[43mkwargs\u001b[49m\u001b[43m)\u001b[49m\n",
      "File \u001b[1;32mc:\\Users\\lhall\\AppData\\Local\\Programs\\Python\\Python311\\Lib\\site-packages\\pytorch_lightning\\core\\module.py:1581\u001b[0m, in \u001b[0;36mLightningModule.load_from_checkpoint\u001b[1;34m(cls, checkpoint_path, map_location, hparams_file, strict, **kwargs)\u001b[0m\n\u001b[0;32m   1492\u001b[0m \u001b[38;5;129m@_restricted_classmethod\u001b[39m\n\u001b[0;32m   1493\u001b[0m \u001b[38;5;28;01mdef\u001b[39;00m \u001b[38;5;21mload_from_checkpoint\u001b[39m(\n\u001b[0;32m   1494\u001b[0m     \u001b[38;5;28mcls\u001b[39m,\n\u001b[1;32m   (...)\u001b[0m\n\u001b[0;32m   1499\u001b[0m     \u001b[38;5;241m*\u001b[39m\u001b[38;5;241m*\u001b[39mkwargs: Any,\n\u001b[0;32m   1500\u001b[0m ) \u001b[38;5;241m-\u001b[39m\u001b[38;5;241m>\u001b[39m Self:\n\u001b[0;32m   1501\u001b[0m \u001b[38;5;250m    \u001b[39m\u001b[38;5;124mr\u001b[39m\u001b[38;5;124;03m\"\"\"Primary way of loading a model from a checkpoint. When Lightning saves a checkpoint it stores the arguments\u001b[39;00m\n\u001b[0;32m   1502\u001b[0m \u001b[38;5;124;03m    passed to ``__init__``  in the checkpoint under ``\"hyper_parameters\"``.\u001b[39;00m\n\u001b[0;32m   1503\u001b[0m \n\u001b[1;32m   (...)\u001b[0m\n\u001b[0;32m   1579\u001b[0m \n\u001b[0;32m   1580\u001b[0m \u001b[38;5;124;03m    \"\"\"\u001b[39;00m\n\u001b[1;32m-> 1581\u001b[0m     loaded \u001b[38;5;241m=\u001b[39m \u001b[43m_load_from_checkpoint\u001b[49m\u001b[43m(\u001b[49m\n\u001b[0;32m   1582\u001b[0m \u001b[43m        \u001b[49m\u001b[38;5;28;43mcls\u001b[39;49m\u001b[43m,\u001b[49m\u001b[43m  \u001b[49m\u001b[38;5;66;43;03m# type: ignore[arg-type]\u001b[39;49;00m\n\u001b[0;32m   1583\u001b[0m \u001b[43m        \u001b[49m\u001b[43mcheckpoint_path\u001b[49m\u001b[43m,\u001b[49m\n\u001b[0;32m   1584\u001b[0m \u001b[43m        \u001b[49m\u001b[43mmap_location\u001b[49m\u001b[43m,\u001b[49m\n\u001b[0;32m   1585\u001b[0m \u001b[43m        \u001b[49m\u001b[43mhparams_file\u001b[49m\u001b[43m,\u001b[49m\n\u001b[0;32m   1586\u001b[0m \u001b[43m        \u001b[49m\u001b[43mstrict\u001b[49m\u001b[43m,\u001b[49m\n\u001b[0;32m   1587\u001b[0m \u001b[43m        \u001b[49m\u001b[38;5;241;43m*\u001b[39;49m\u001b[38;5;241;43m*\u001b[39;49m\u001b[43mkwargs\u001b[49m\u001b[43m,\u001b[49m\n\u001b[0;32m   1588\u001b[0m \u001b[43m    \u001b[49m\u001b[43m)\u001b[49m\n\u001b[0;32m   1589\u001b[0m     \u001b[38;5;28;01mreturn\u001b[39;00m cast(Self, loaded)\n",
      "File \u001b[1;32mc:\\Users\\lhall\\AppData\\Local\\Programs\\Python\\Python311\\Lib\\site-packages\\pytorch_lightning\\core\\saving.py:91\u001b[0m, in \u001b[0;36m_load_from_checkpoint\u001b[1;34m(cls, checkpoint_path, map_location, hparams_file, strict, **kwargs)\u001b[0m\n\u001b[0;32m     89\u001b[0m     \u001b[38;5;28;01mreturn\u001b[39;00m _load_state(\u001b[38;5;28mcls\u001b[39m, checkpoint, \u001b[38;5;241m*\u001b[39m\u001b[38;5;241m*\u001b[39mkwargs)\n\u001b[0;32m     90\u001b[0m \u001b[38;5;28;01mif\u001b[39;00m \u001b[38;5;28missubclass\u001b[39m(\u001b[38;5;28mcls\u001b[39m, pl\u001b[38;5;241m.\u001b[39mLightningModule):\n\u001b[1;32m---> 91\u001b[0m     model \u001b[38;5;241m=\u001b[39m \u001b[43m_load_state\u001b[49m\u001b[43m(\u001b[49m\u001b[38;5;28;43mcls\u001b[39;49m\u001b[43m,\u001b[49m\u001b[43m \u001b[49m\u001b[43mcheckpoint\u001b[49m\u001b[43m,\u001b[49m\u001b[43m \u001b[49m\u001b[43mstrict\u001b[49m\u001b[38;5;241;43m=\u001b[39;49m\u001b[43mstrict\u001b[49m\u001b[43m,\u001b[49m\u001b[43m \u001b[49m\u001b[38;5;241;43m*\u001b[39;49m\u001b[38;5;241;43m*\u001b[39;49m\u001b[43mkwargs\u001b[49m\u001b[43m)\u001b[49m\n\u001b[0;32m     92\u001b[0m     state_dict \u001b[38;5;241m=\u001b[39m checkpoint[\u001b[38;5;124m\"\u001b[39m\u001b[38;5;124mstate_dict\u001b[39m\u001b[38;5;124m\"\u001b[39m]\n\u001b[0;32m     93\u001b[0m     \u001b[38;5;28;01mif\u001b[39;00m \u001b[38;5;129;01mnot\u001b[39;00m state_dict:\n",
      "File \u001b[1;32mc:\\Users\\lhall\\AppData\\Local\\Programs\\Python\\Python311\\Lib\\site-packages\\pytorch_lightning\\core\\saving.py:180\u001b[0m, in \u001b[0;36m_load_state\u001b[1;34m(cls, checkpoint, strict, **cls_kwargs_new)\u001b[0m\n\u001b[0;32m    177\u001b[0m     obj\u001b[38;5;241m.\u001b[39mon_load_checkpoint(checkpoint)\n\u001b[0;32m    179\u001b[0m \u001b[38;5;66;03m# load the state_dict on the model automatically\u001b[39;00m\n\u001b[1;32m--> 180\u001b[0m keys \u001b[38;5;241m=\u001b[39m \u001b[43mobj\u001b[49m\u001b[38;5;241;43m.\u001b[39;49m\u001b[43mload_state_dict\u001b[49m\u001b[43m(\u001b[49m\u001b[43mcheckpoint\u001b[49m\u001b[43m[\u001b[49m\u001b[38;5;124;43m\"\u001b[39;49m\u001b[38;5;124;43mstate_dict\u001b[39;49m\u001b[38;5;124;43m\"\u001b[39;49m\u001b[43m]\u001b[49m\u001b[43m,\u001b[49m\u001b[43m \u001b[49m\u001b[43mstrict\u001b[49m\u001b[38;5;241;43m=\u001b[39;49m\u001b[43mstrict\u001b[49m\u001b[43m)\u001b[49m\n\u001b[0;32m    182\u001b[0m \u001b[38;5;28;01mif\u001b[39;00m \u001b[38;5;129;01mnot\u001b[39;00m strict:\n\u001b[0;32m    183\u001b[0m     \u001b[38;5;28;01mif\u001b[39;00m keys\u001b[38;5;241m.\u001b[39mmissing_keys:\n",
      "File \u001b[1;32mc:\\Users\\lhall\\AppData\\Local\\Programs\\Python\\Python311\\Lib\\site-packages\\torch\\nn\\modules\\module.py:2153\u001b[0m, in \u001b[0;36mModule.load_state_dict\u001b[1;34m(self, state_dict, strict, assign)\u001b[0m\n\u001b[0;32m   2148\u001b[0m         error_msgs\u001b[38;5;241m.\u001b[39minsert(\n\u001b[0;32m   2149\u001b[0m             \u001b[38;5;241m0\u001b[39m, \u001b[38;5;124m'\u001b[39m\u001b[38;5;124mMissing key(s) in state_dict: \u001b[39m\u001b[38;5;132;01m{}\u001b[39;00m\u001b[38;5;124m. \u001b[39m\u001b[38;5;124m'\u001b[39m\u001b[38;5;241m.\u001b[39mformat(\n\u001b[0;32m   2150\u001b[0m                 \u001b[38;5;124m'\u001b[39m\u001b[38;5;124m, \u001b[39m\u001b[38;5;124m'\u001b[39m\u001b[38;5;241m.\u001b[39mjoin(\u001b[38;5;124mf\u001b[39m\u001b[38;5;124m'\u001b[39m\u001b[38;5;124m\"\u001b[39m\u001b[38;5;132;01m{\u001b[39;00mk\u001b[38;5;132;01m}\u001b[39;00m\u001b[38;5;124m\"\u001b[39m\u001b[38;5;124m'\u001b[39m \u001b[38;5;28;01mfor\u001b[39;00m k \u001b[38;5;129;01min\u001b[39;00m missing_keys)))\n\u001b[0;32m   2152\u001b[0m \u001b[38;5;28;01mif\u001b[39;00m \u001b[38;5;28mlen\u001b[39m(error_msgs) \u001b[38;5;241m>\u001b[39m \u001b[38;5;241m0\u001b[39m:\n\u001b[1;32m-> 2153\u001b[0m     \u001b[38;5;28;01mraise\u001b[39;00m \u001b[38;5;167;01mRuntimeError\u001b[39;00m(\u001b[38;5;124m'\u001b[39m\u001b[38;5;124mError(s) in loading state_dict for \u001b[39m\u001b[38;5;132;01m{}\u001b[39;00m\u001b[38;5;124m:\u001b[39m\u001b[38;5;130;01m\\n\u001b[39;00m\u001b[38;5;130;01m\\t\u001b[39;00m\u001b[38;5;132;01m{}\u001b[39;00m\u001b[38;5;124m'\u001b[39m\u001b[38;5;241m.\u001b[39mformat(\n\u001b[0;32m   2154\u001b[0m                        \u001b[38;5;28mself\u001b[39m\u001b[38;5;241m.\u001b[39m\u001b[38;5;18m__class__\u001b[39m\u001b[38;5;241m.\u001b[39m\u001b[38;5;18m__name__\u001b[39m, \u001b[38;5;124m\"\u001b[39m\u001b[38;5;130;01m\\n\u001b[39;00m\u001b[38;5;130;01m\\t\u001b[39;00m\u001b[38;5;124m\"\u001b[39m\u001b[38;5;241m.\u001b[39mjoin(error_msgs)))\n\u001b[0;32m   2155\u001b[0m \u001b[38;5;28;01mreturn\u001b[39;00m _IncompatibleKeys(missing_keys, unexpected_keys)\n",
      "\u001b[1;31mRuntimeError\u001b[0m: Error(s) in loading state_dict for HF_trans_basic_block:\n\tUnexpected key(s) in state_dict: \"model_aspect_tmvec.encoder.layers.2.self_attn.in_proj_weight\", \"model_aspect_tmvec.encoder.layers.2.self_attn.in_proj_bias\", \"model_aspect_tmvec.encoder.layers.2.self_attn.out_proj.weight\", \"model_aspect_tmvec.encoder.layers.2.self_attn.out_proj.bias\", \"model_aspect_tmvec.encoder.layers.2.linear1.weight\", \"model_aspect_tmvec.encoder.layers.2.linear1.bias\", \"model_aspect_tmvec.encoder.layers.2.linear2.weight\", \"model_aspect_tmvec.encoder.layers.2.linear2.bias\", \"model_aspect_tmvec.encoder.layers.2.norm1.weight\", \"model_aspect_tmvec.encoder.layers.2.norm1.bias\", \"model_aspect_tmvec.encoder.layers.2.norm2.weight\", \"model_aspect_tmvec.encoder.layers.2.norm2.bias\", \"model_aspect_tmvec.encoder.layers.3.self_attn.in_proj_weight\", \"model_aspect_tmvec.encoder.layers.3.self_attn.in_proj_bias\", \"model_aspect_tmvec.encoder.layers.3.self_attn.out_proj.weight\", \"model_aspect_tmvec.encoder.layers.3.self_attn.out_proj.bias\", \"model_aspect_tmvec.encoder.layers.3.linear1.weight\", \"model_aspect_tmvec.encoder.layers.3.linear1.bias\", \"model_aspect_tmvec.encoder.layers.3.linear2.weight\", \"model_aspect_tmvec.encoder.layers.3.linear2.bias\", \"model_aspect_tmvec.encoder.layers.3.norm1.weight\", \"model_aspect_tmvec.encoder.layers.3.norm1.bias\", \"model_aspect_tmvec.encoder.layers.3.norm2.weight\", \"model_aspect_tmvec.encoder.layers.3.norm2.bias\", \"model_aspect_mfo.encoder.layers.2.self_attn.in_proj_weight\", \"model_aspect_mfo.encoder.layers.2.self_attn.in_proj_bias\", \"model_aspect_mfo.encoder.layers.2.self_attn.out_proj.weight\", \"model_aspect_mfo.encoder.layers.2.self_attn.out_proj.bias\", \"model_aspect_mfo.encoder.layers.2.linear1.weight\", \"model_aspect_mfo.encoder.layers.2.linear1.bias\", \"model_aspect_mfo.encoder.layers.2.linear2.weight\", \"model_aspect_mfo.encoder.layers.2.linear2.bias\", \"model_aspect_mfo.encoder.layers.2.norm1.weight\", \"model_aspect_mfo.encoder.layers.2.norm1.bias\", \"model_aspect_mfo.encoder.layers.2.norm2.weight\", \"model_aspect_mfo.encoder.layers.2.norm2.bias\", \"model_aspect_mfo.encoder.layers.3.self_attn.in_proj_weight\", \"model_aspect_mfo.encoder.layers.3.self_attn.in_proj_bias\", \"model_aspect_mfo.encoder.layers.3.self_attn.out_proj.weight\", \"model_aspect_mfo.encoder.layers.3.self_attn.out_proj.bias\", \"model_aspect_mfo.encoder.layers.3.linear1.weight\", \"model_aspect_mfo.encoder.layers.3.linear1.bias\", \"model_aspect_mfo.encoder.layers.3.linear2.weight\", \"model_aspect_mfo.encoder.layers.3.linear2.bias\", \"model_aspect_mfo.encoder.layers.3.norm1.weight\", \"model_aspect_mfo.encoder.layers.3.norm1.bias\", \"model_aspect_mfo.encoder.layers.3.norm2.weight\", \"model_aspect_mfo.encoder.layers.3.norm2.bias\", \"model_aspect_bpo.encoder.layers.2.self_attn.in_proj_weight\", \"model_aspect_bpo.encoder.layers.2.self_attn.in_proj_bias\", \"model_aspect_bpo.encoder.layers.2.self_attn.out_proj.weight\", \"model_aspect_bpo.encoder.layers.2.self_attn.out_proj.bias\", \"model_aspect_bpo.encoder.layers.2.linear1.weight\", \"model_aspect_bpo.encoder.layers.2.linear1.bias\", \"model_aspect_bpo.encoder.layers.2.linear2.weight\", \"model_aspect_bpo.encoder.layers.2.linear2.bias\", \"model_aspect_bpo.encoder.layers.2.norm1.weight\", \"model_aspect_bpo.encoder.layers.2.norm1.bias\", \"model_aspect_bpo.encoder.layers.2.norm2.weight\", \"model_aspect_bpo.encoder.layers.2.norm2.bias\", \"model_aspect_bpo.encoder.layers.3.self_attn.in_proj_weight\", \"model_aspect_bpo.encoder.layers.3.self_attn.in_proj_bias\", \"model_aspect_bpo.encoder.layers.3.self_attn.out_proj.weight\", \"model_aspect_bpo.encoder.layers.3.self_attn.out_proj.bias\", \"model_aspect_bpo.encoder.layers.3.linear1.weight\", \"model_aspect_bpo.encoder.layers.3.linear1.bias\", \"model_aspect_bpo.encoder.layers.3.linear2.weight\", \"model_aspect_bpo.encoder.layers.3.linear2.bias\", \"model_aspect_bpo.encoder.layers.3.norm1.weight\", \"model_aspect_bpo.encoder.layers.3.norm1.bias\", \"model_aspect_bpo.encoder.layers.3.norm2.weight\", \"model_aspect_bpo.encoder.layers.3.norm2.bias\", \"model_aspect_cco.encoder.layers.2.self_attn.in_proj_weight\", \"model_aspect_cco.encoder.layers.2.self_attn.in_proj_bias\", \"model_aspect_cco.encoder.layers.2.self_attn.out_proj.weight\", \"model_aspect_cco.encoder.layers.2.self_attn.out_proj.bias\", \"model_aspect_cco.encoder.layers.2.linear1.weight\", \"model_aspect_cco.encoder.layers.2.linear1.bias\", \"model_aspect_cco.encoder.layers.2.linear2.weight\", \"model_aspect_cco.encoder.layers.2.linear2.bias\", \"model_aspect_cco.encoder.layers.2.norm1.weight\", \"model_aspect_cco.encoder.layers.2.norm1.bias\", \"model_aspect_cco.encoder.layers.2.norm2.weight\", \"model_aspect_cco.encoder.layers.2.norm2.bias\", \"model_aspect_cco.encoder.layers.3.self_attn.in_proj_weight\", \"model_aspect_cco.encoder.layers.3.self_attn.in_proj_bias\", \"model_aspect_cco.encoder.layers.3.self_attn.out_proj.weight\", \"model_aspect_cco.encoder.layers.3.self_attn.out_proj.bias\", \"model_aspect_cco.encoder.layers.3.linear1.weight\", \"model_aspect_cco.encoder.layers.3.linear1.bias\", \"model_aspect_cco.encoder.layers.3.linear2.weight\", \"model_aspect_cco.encoder.layers.3.linear2.bias\", \"model_aspect_cco.encoder.layers.3.norm1.weight\", \"model_aspect_cco.encoder.layers.3.norm1.bias\", \"model_aspect_cco.encoder.layers.3.norm2.weight\", \"model_aspect_cco.encoder.layers.3.norm2.bias\". "
     ]
    }
   ],
   "source": [
    "disk_model = ProteinVec(config=ProteinVecConfig())\n",
    "disk_model.load_from_disk()"
   ]
  },
  {
   "cell_type": "code",
   "execution_count": null,
   "metadata": {},
   "outputs": [],
   "source": [
    "disk_model.push_to_hub('lhallee/')"
   ]
  },
  {
   "cell_type": "code",
   "execution_count": null,
   "metadata": {},
   "outputs": [],
   "source": [
    "model = ProteinVec.from_pretrained('lhallee/ProteinVec', config=ProteinVecConfig())"
   ]
  },
  {
   "cell_type": "code",
   "execution_count": null,
   "metadata": {},
   "outputs": [],
   "source": [
    "model2 = ProteinVec(config=ProteinVecConfig())\n",
    "model2.from_disk()"
   ]
  },
  {
   "cell_type": "code",
   "execution_count": null,
   "metadata": {},
   "outputs": [],
   "source": [
    "import torch\n",
    "\n",
    "def are_models_equal(model1, model2):\n",
    "    state_dict1 = model1.state_dict()\n",
    "    state_dict2 = model2.state_dict()\n",
    "    \n",
    "    if len(state_dict1) != len(state_dict2):\n",
    "        print('Length')\n",
    "        return False\n",
    "    \n",
    "    for key in state_dict1:\n",
    "        if key not in state_dict2:\n",
    "            print('Key')\n",
    "            return False\n",
    "        \n",
    "        if not torch.equal(state_dict1[key], state_dict2[key]):\n",
    "            print(key)\n",
    "            #return False\n",
    "    \n",
    "    return True\n",
    "\n",
    "\n",
    "if are_models_equal(model.cpu(), model2.cpu()):\n",
    "    print(\"The models are equal.\")\n",
    "else:\n",
    "    print(\"The models are not equal.\")"
   ]
  },
  {
   "cell_type": "code",
   "execution_count": null,
   "metadata": {},
   "outputs": [],
   "source": []
  }
 ],
 "metadata": {
  "kernelspec": {
   "display_name": "Python 3",
   "language": "python",
   "name": "python3"
  },
  "language_info": {
   "codemirror_mode": {
    "name": "ipython",
    "version": 3
   },
   "file_extension": ".py",
   "mimetype": "text/x-python",
   "name": "python",
   "nbconvert_exporter": "python",
   "pygments_lexer": "ipython3",
   "version": "3.11.8"
  }
 },
 "nbformat": 4,
 "nbformat_minor": 2
}
