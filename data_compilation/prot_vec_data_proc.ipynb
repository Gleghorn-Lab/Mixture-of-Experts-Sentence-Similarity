{
 "cells": [
  {
   "cell_type": "code",
   "execution_count": 1,
   "metadata": {},
   "outputs": [],
   "source": [
    "import pandas as pd\n",
    "import numpy as np\n",
    "import pickle\n",
    "import random\n",
    "\n",
    "from itertools import chain\n",
    "from tqdm.auto import tqdm\n",
    "from ast import literal_eval\n",
    "from collections import defaultdict\n",
    "from datasets import Dataset\n",
    "tqdm.pandas()"
   ]
  },
  {
   "cell_type": "code",
   "execution_count": null,
   "metadata": {},
   "outputs": [],
   "source": [
    "from huggingface_hub import notebook_login\n",
    "notebook_login()"
   ]
  },
  {
   "cell_type": "code",
   "execution_count": 6,
   "metadata": {},
   "outputs": [],
   "source": [
    "def load_df(path):\n",
    "    df = pd.read_csv(path, delimiter='\\t').rename(columns={\n",
    "        'EC number':'EC',\n",
    "        'Gene Ontology (molecular function)':'MF',\n",
    "        'Gene Ontology (biological process)':'BP',\n",
    "        'Gene Ontology (cellular component)':'CC',\n",
    "        'InterPro':'IP',\n",
    "        'Gene3D':'3D',\n",
    "        'Sequence':'seqs'\n",
    "    }).astype('string')\n",
    "    print(len(df))\n",
    "    df['combined'] = df.progress_apply(lambda x: ' '.join(str(x[col]) for col in df.columns if col != 'seqs'), axis=1)\n",
    "    df = df.sort_values(by='combined', key=lambda x: x.str.len(), ascending=False)\n",
    "    df = df.drop_duplicates(subset='seqs', keep='first')\n",
    "    df = df.drop('combined', axis=1)\n",
    "    df = df.reset_index(drop=True)\n",
    "    print(len(df))\n",
    "    return df\n",
    "\n",
    "\n",
    "def create_dictionary(input, start=1, name='ec'):\n",
    "    id2label, label2id = {}, {}\n",
    "    for index, entry in enumerate(input, start=start):\n",
    "        entry = entry + '_' + name\n",
    "        id2label[index] = entry\n",
    "        label2id[entry] = index\n",
    "    return id2label, label2id\n",
    "\n",
    "\n",
    "def process_descriptors(input_list,\n",
    "                        start=1,\n",
    "                        name='ec',\n",
    "                        id2label=None,\n",
    "                        label2id=None,\n",
    "                        filter_func=lambda d: d.strip()):\n",
    "    col_list, new_col = [], []\n",
    "\n",
    "    if id2label == None or label2id == None:\n",
    "        for item in tqdm(input_list, desc=f'{name} make dicts'):\n",
    "            descriptors = str(item).split(';')\n",
    "            filtered_descriptors = [filter_func(d) for d in descriptors if filter_func(d) != 'None' and filter_func(d) != 'nan']\n",
    "            col_list.extend(filtered_descriptors)\n",
    "        col_list = sorted(list(set(col_list)))\n",
    "        col_list.pop(0)\n",
    "        len_col_list = len(col_list)\n",
    "        id2label, label2id = create_dictionary(col_list, start=start, name=name)\n",
    "    else:\n",
    "        len_col_list = len(id2label.keys())\n",
    "\n",
    "    for item in tqdm(input_list, desc=f'{name} make new column'):\n",
    "        descriptors = str(item).split(';')\n",
    "        filtered_descriptors = [filter_func(d) for d in descriptors if filter_func(d) != 'None' and filter_func(d) != 'nan']\n",
    "        new_entry = [label2id.get(d+'_'+name, 0) for d in filtered_descriptors] or [0]\n",
    "        new_col.append(new_entry)\n",
    "    return new_col, id2label, label2id, len_col_list + start\n",
    "\n",
    "\n",
    "def ec_processing(input_list, start=1, name='ec', id2label=None, label2id=None):\n",
    "    return process_descriptors(input_list, start=start, name=name, id2label=id2label, label2id=label2id,\n",
    "                               filter_func=lambda d: d.strip() if '-' not in d and 'n' not in d else '')\n",
    "\n",
    "def go_processing(input_list, start=1, name='go', id2label=None, label2id=None):\n",
    "    return process_descriptors(input_list, start=start, name=name, id2label=id2label, label2id=label2id,\n",
    "                               filter_func=lambda d: d[d.find('[GO:')+1:d.find(']')].strip())\n",
    "\n",
    "def cofactor_processing(input_list, start=1, name='co', id2label=None, label2id=None):\n",
    "    return process_descriptors(input_list, start=start, name=name, id2label=id2label, label2id=label2id,\n",
    "                               filter_func=lambda d: d[d.find('Name=')+5:].strip() if 'Name' in d else '')\n",
    "\n",
    "def domain_processing(input_list, start=1, name='ip', id2label=None, label2id=None):\n",
    "    return process_descriptors(input_list, start=start, name=name, id2label=id2label, label2id=label2id)\n"
   ]
  },
  {
   "cell_type": "code",
   "execution_count": 3,
   "metadata": {},
   "outputs": [
    {
     "name": "stdout",
     "output_type": "stream",
     "text": [
      "461186\n"
     ]
    },
    {
     "data": {
      "application/vnd.jupyter.widget-view+json": {
       "model_id": "a52ecb49afc44abe9f4a1ffdc3db4a75",
       "version_major": 2,
       "version_minor": 0
      },
      "text/plain": [
       "  0%|          | 0/461186 [00:00<?, ?it/s]"
      ]
     },
     "metadata": {},
     "output_type": "display_data"
    },
    {
     "name": "stdout",
     "output_type": "stream",
     "text": [
      "381212\n"
     ]
    },
    {
     "data": {
      "application/vnd.jupyter.widget-view+json": {
       "model_id": "672ae8c00e9e4d4e91f843bc3b1dd90d",
       "version_major": 2,
       "version_minor": 0
      },
      "text/plain": [
       "ec make dicts:   0%|          | 0/381212 [00:00<?, ?it/s]"
      ]
     },
     "metadata": {},
     "output_type": "display_data"
    },
    {
     "data": {
      "application/vnd.jupyter.widget-view+json": {
       "model_id": "ec136e63606e488ea72985e5294de2ee",
       "version_major": 2,
       "version_minor": 0
      },
      "text/plain": [
       "ec make new column:   0%|          | 0/381212 [00:00<?, ?it/s]"
      ]
     },
     "metadata": {},
     "output_type": "display_data"
    },
    {
     "data": {
      "application/vnd.jupyter.widget-view+json": {
       "model_id": "97fc29ac38c94117963901812bef094a",
       "version_major": 2,
       "version_minor": 0
      },
      "text/plain": [
       "mf make dicts:   0%|          | 0/381212 [00:00<?, ?it/s]"
      ]
     },
     "metadata": {},
     "output_type": "display_data"
    },
    {
     "data": {
      "application/vnd.jupyter.widget-view+json": {
       "model_id": "8f15870c571d41249379541b108ec275",
       "version_major": 2,
       "version_minor": 0
      },
      "text/plain": [
       "mf make new column:   0%|          | 0/381212 [00:00<?, ?it/s]"
      ]
     },
     "metadata": {},
     "output_type": "display_data"
    },
    {
     "data": {
      "application/vnd.jupyter.widget-view+json": {
       "model_id": "eb39afd05e914793b22b744aa4ec73e6",
       "version_major": 2,
       "version_minor": 0
      },
      "text/plain": [
       "bp make dicts:   0%|          | 0/381212 [00:00<?, ?it/s]"
      ]
     },
     "metadata": {},
     "output_type": "display_data"
    },
    {
     "data": {
      "application/vnd.jupyter.widget-view+json": {
       "model_id": "429b4cc4bf4c4a8e892686e04eba2742",
       "version_major": 2,
       "version_minor": 0
      },
      "text/plain": [
       "bp make new column:   0%|          | 0/381212 [00:00<?, ?it/s]"
      ]
     },
     "metadata": {},
     "output_type": "display_data"
    },
    {
     "data": {
      "application/vnd.jupyter.widget-view+json": {
       "model_id": "0a4b428ef1064a9b8cf24a08ce4dea18",
       "version_major": 2,
       "version_minor": 0
      },
      "text/plain": [
       "cc make dicts:   0%|          | 0/381212 [00:00<?, ?it/s]"
      ]
     },
     "metadata": {},
     "output_type": "display_data"
    },
    {
     "data": {
      "application/vnd.jupyter.widget-view+json": {
       "model_id": "7ebe4b292e244348af6c7869a8277c93",
       "version_major": 2,
       "version_minor": 0
      },
      "text/plain": [
       "cc make new column:   0%|          | 0/381212 [00:00<?, ?it/s]"
      ]
     },
     "metadata": {},
     "output_type": "display_data"
    },
    {
     "data": {
      "application/vnd.jupyter.widget-view+json": {
       "model_id": "08403320098c4ac98d00bf5f7be41b70",
       "version_major": 2,
       "version_minor": 0
      },
      "text/plain": [
       "ip make dicts:   0%|          | 0/381212 [00:00<?, ?it/s]"
      ]
     },
     "metadata": {},
     "output_type": "display_data"
    },
    {
     "data": {
      "application/vnd.jupyter.widget-view+json": {
       "model_id": "97ded09baf324dd1af48fc71b22be364",
       "version_major": 2,
       "version_minor": 0
      },
      "text/plain": [
       "ip make new column:   0%|          | 0/381212 [00:00<?, ?it/s]"
      ]
     },
     "metadata": {},
     "output_type": "display_data"
    },
    {
     "data": {
      "application/vnd.jupyter.widget-view+json": {
       "model_id": "875d241458ed4c30bab3b5923fee607a",
       "version_major": 2,
       "version_minor": 0
      },
      "text/plain": [
       "3d make dicts:   0%|          | 0/381212 [00:00<?, ?it/s]"
      ]
     },
     "metadata": {},
     "output_type": "display_data"
    },
    {
     "data": {
      "application/vnd.jupyter.widget-view+json": {
       "model_id": "d882c3b70f0a4df8bbbbc214d18f1e14",
       "version_major": 2,
       "version_minor": 0
      },
      "text/plain": [
       "3d make new column:   0%|          | 0/381212 [00:00<?, ?it/s]"
      ]
     },
     "metadata": {},
     "output_type": "display_data"
    },
    {
     "data": {
      "application/vnd.jupyter.widget-view+json": {
       "model_id": "95d31662c51b446c9e375541944ce9b6",
       "version_major": 2,
       "version_minor": 0
      },
      "text/plain": [
       "co make dicts:   0%|          | 0/381212 [00:00<?, ?it/s]"
      ]
     },
     "metadata": {},
     "output_type": "display_data"
    },
    {
     "data": {
      "application/vnd.jupyter.widget-view+json": {
       "model_id": "53d2d5d429c44bf5a5eb2ffada117bb5",
       "version_major": 2,
       "version_minor": 0
      },
      "text/plain": [
       "co make new column:   0%|          | 0/381212 [00:00<?, ?it/s]"
      ]
     },
     "metadata": {},
     "output_type": "display_data"
    }
   ],
   "source": [
    "# Train data\n",
    "df = load_df('swiss_prot_raw.tsv')\n",
    "# EC\n",
    "ecs = df['EC'].tolist()\n",
    "new_ec_col, id2ec, ec2id, ec_len = ec_processing(ecs, name='ec', start=1)\n",
    "# MF\n",
    "mfs = df['MF'].tolist()\n",
    "new_mf_col, id2mf, mf2id, mf_len = go_processing(mfs, name='mf', start=ec_len+1)\n",
    "# BP\n",
    "bps = df['BP'].tolist()\n",
    "new_bp_col, id2bp, bp2id, bp_len = go_processing(bps, name='bp', start=mf_len+1)\n",
    "# CC\n",
    "ccs = df['CC'].tolist()\n",
    "new_cc_col, id2cc, cc2id, cc_len = go_processing(ccs, name='cc', start=bp_len+1)\n",
    "# IP\n",
    "ips = df['IP'].tolist()\n",
    "new_ip_col, id2ip, ip2id, ip_len = domain_processing(ips, name='ip', start=cc_len+1)\n",
    "# 3D\n",
    "threeds = df['3D'].tolist()\n",
    "new_threed_col, id2threed, threed2id, threed_len = domain_processing(threeds, name='3d', start=ip_len+1)\n",
    "# cofactor\n",
    "cos = df['Cofactor'].tolist()\n",
    "new_co_col, id2co, co2id, co_len = cofactor_processing(cos, name='co', start=threed_len+1)"
   ]
  },
  {
   "cell_type": "code",
   "execution_count": 4,
   "metadata": {},
   "outputs": [
    {
     "name": "stdout",
     "output_type": "stream",
     "text": [
      "58945\n",
      "58945\n",
      "58945 58945\n"
     ]
    }
   ],
   "source": [
    "# make full dicts and check for no duplicates\n",
    "all_id = [id2ec, id2mf, id2bp, id2cc, id2ip, id2threed, id2co]\n",
    "all_label = [ec2id, mf2id, bp2id, cc2id, ip2id, threed2id, co2id]\n",
    "\n",
    "id2label, label2id = {}, {}\n",
    "\n",
    "key_counts = 0\n",
    "for d in all_id:\n",
    "    key_counts += len(d.keys())\n",
    "    id2label.update(d)\n",
    "print(key_counts)\n",
    "\n",
    "key_counts = 0\n",
    "for d in all_label:\n",
    "    key_counts += len(d.keys())\n",
    "    label2id.update(d)\n",
    "print(key_counts)\n",
    "\n",
    "for k, v in id2label.items():\n",
    "    if k != label2id[v]:\n",
    "        print(v)\n",
    "\n",
    "for k, v in label2id.items():\n",
    "    if k != id2label[v]:\n",
    "        print(v)\n",
    "\n",
    "print(len(id2label.keys()), len(label2id.keys()))"
   ]
  },
  {
   "cell_type": "code",
   "execution_count": 5,
   "metadata": {},
   "outputs": [
    {
     "data": {
      "application/vnd.jupyter.widget-view+json": {
       "model_id": "994ed3ba26934a5b88fb6666e7dd8806",
       "version_major": 2,
       "version_minor": 0
      },
      "text/plain": [
       "  0%|          | 0/381212 [00:00<?, ?it/s]"
      ]
     },
     "metadata": {},
     "output_type": "display_data"
    },
    {
     "name": "stdout",
     "output_type": "stream",
     "text": [
      "Final DataFrame length:  94675\n"
     ]
    }
   ],
   "source": [
    "all_cols = [new_ec_col, new_mf_col, new_bp_col, new_cc_col, new_ip_col, new_threed_col, new_co_col]\n",
    "combined_list = [sorted([item for item in list(chain.from_iterable(element)) if item != 0]) for element in zip(*all_cols)]\n",
    "\n",
    "df['EC'] = new_ec_col\n",
    "df['Cofactor'] = new_co_col\n",
    "df['MF'] = new_mf_col\n",
    "df['BP'] = new_bp_col\n",
    "df['CC'] = new_cc_col\n",
    "df['IP'] = new_ip_col\n",
    "df['3D'] = new_threed_col\n",
    "df['combined'] = combined_list\n",
    "df['string_combined'] = df['combined'].astype('string')\n",
    "\n",
    "unique_values = df['string_combined'].unique()\n",
    "\n",
    "# Create a dictionary to store the rows with the longest 'combined' string for each unique value\n",
    "unique_dict = {}\n",
    "\n",
    "# Iterate over the DataFrame and update the dictionary\n",
    "for _, row in tqdm(df.iterrows(), total=len(df)):\n",
    "    combined_value = row['string_combined']\n",
    "    if combined_value not in unique_dict:\n",
    "        unique_dict[combined_value] = row\n",
    "    if combined_value == '[0]':\n",
    "        print(combined_value)\n",
    "\n",
    "# Create the final DataFrame from the dictionary values\n",
    "df_final = pd.DataFrame(unique_dict.values()).drop(columns=['string_combined'])\n",
    "\n",
    "print(\"Final DataFrame length: \", len(df_final))\n",
    "\n",
    "df_final.to_csv('processed_swiss_prot.csv', index=False)"
   ]
  },
  {
   "cell_type": "code",
   "execution_count": 8,
   "metadata": {},
   "outputs": [
    {
     "name": "stdout",
     "output_type": "stream",
     "text": [
      "34747\n"
     ]
    },
    {
     "data": {
      "application/vnd.jupyter.widget-view+json": {
       "model_id": "3af52909fbfb43c8bb14f92bdd8177ac",
       "version_major": 2,
       "version_minor": 0
      },
      "text/plain": [
       "  0%|          | 0/34747 [00:00<?, ?it/s]"
      ]
     },
     "metadata": {},
     "output_type": "display_data"
    },
    {
     "name": "stdout",
     "output_type": "stream",
     "text": [
      "34560\n"
     ]
    },
    {
     "data": {
      "application/vnd.jupyter.widget-view+json": {
       "model_id": "e5be086f8007435fac35e07a7209ab50",
       "version_major": 2,
       "version_minor": 0
      },
      "text/plain": [
       "ec make new column:   0%|          | 0/34560 [00:00<?, ?it/s]"
      ]
     },
     "metadata": {},
     "output_type": "display_data"
    },
    {
     "data": {
      "application/vnd.jupyter.widget-view+json": {
       "model_id": "31adddc5000946e8b5c8c1365d2877bf",
       "version_major": 2,
       "version_minor": 0
      },
      "text/plain": [
       "mf make new column:   0%|          | 0/34560 [00:00<?, ?it/s]"
      ]
     },
     "metadata": {},
     "output_type": "display_data"
    },
    {
     "data": {
      "application/vnd.jupyter.widget-view+json": {
       "model_id": "40dd5a256380466cb5c925354de35a67",
       "version_major": 2,
       "version_minor": 0
      },
      "text/plain": [
       "bp make new column:   0%|          | 0/34560 [00:00<?, ?it/s]"
      ]
     },
     "metadata": {},
     "output_type": "display_data"
    },
    {
     "data": {
      "application/vnd.jupyter.widget-view+json": {
       "model_id": "8aa497b49223405297c63af5fd5764d1",
       "version_major": 2,
       "version_minor": 0
      },
      "text/plain": [
       "cc make new column:   0%|          | 0/34560 [00:00<?, ?it/s]"
      ]
     },
     "metadata": {},
     "output_type": "display_data"
    },
    {
     "data": {
      "application/vnd.jupyter.widget-view+json": {
       "model_id": "b78f98390f69478391d8c3262c591bb5",
       "version_major": 2,
       "version_minor": 0
      },
      "text/plain": [
       "ip make new column:   0%|          | 0/34560 [00:00<?, ?it/s]"
      ]
     },
     "metadata": {},
     "output_type": "display_data"
    },
    {
     "data": {
      "application/vnd.jupyter.widget-view+json": {
       "model_id": "e8aa816c1212444caea8d5f9d5838b47",
       "version_major": 2,
       "version_minor": 0
      },
      "text/plain": [
       "3d make new column:   0%|          | 0/34560 [00:00<?, ?it/s]"
      ]
     },
     "metadata": {},
     "output_type": "display_data"
    },
    {
     "data": {
      "application/vnd.jupyter.widget-view+json": {
       "model_id": "22555c047f21458bbd451bc5cf6d0953",
       "version_major": 2,
       "version_minor": 0
      },
      "text/plain": [
       "co make new column:   0%|          | 0/34560 [00:00<?, ?it/s]"
      ]
     },
     "metadata": {},
     "output_type": "display_data"
    },
    {
     "data": {
      "application/vnd.jupyter.widget-view+json": {
       "model_id": "c811d0e3843f4e9daa4f30dcc20adada",
       "version_major": 2,
       "version_minor": 0
      },
      "text/plain": [
       "  0%|          | 0/34560 [00:00<?, ?it/s]"
      ]
     },
     "metadata": {},
     "output_type": "display_data"
    },
    {
     "name": "stdout",
     "output_type": "stream",
     "text": [
      "Final DataFrame length:  5878\n"
     ]
    }
   ],
   "source": [
    "# Test data\n",
    "df = load_df('trembl_all_aspects_raw.tsv')\n",
    "# EC\n",
    "ecs = df['EC'].tolist()\n",
    "new_ec_col, id2ec, ec2id, ec_len = ec_processing(ecs, name='ec', id2label=id2label, label2id=label2id)\n",
    "# MF\n",
    "mfs = df['MF'].tolist()\n",
    "new_mf_col, id2mf, mf2id, mf_len = go_processing(mfs, name='mf', id2label=id2label, label2id=label2id)\n",
    "# BP\n",
    "bps = df['BP'].tolist()\n",
    "new_bp_col, id2bp, bp2id, bp_len = go_processing(bps, name='bp', id2label=id2label, label2id=label2id)\n",
    "# CC\n",
    "ccs = df['CC'].tolist()\n",
    "new_cc_col, id2cc, cc2id, cc_len = go_processing(ccs, name='cc', id2label=id2label, label2id=label2id)\n",
    "# IP\n",
    "ips = df['IP'].tolist()\n",
    "new_ip_col, id2ip, ip2id, ip_len = domain_processing(ips, name='ip', id2label=id2label, label2id=label2id)\n",
    "# 3D\n",
    "threeds = df['3D'].tolist()\n",
    "new_threed_col, id2threed, threed2id, threed_len = domain_processing(threeds, name='3d', id2label=id2label, label2id=label2id)\n",
    "# cofactor\n",
    "cos = df['Cofactor'].tolist()\n",
    "new_co_col, id2co, co2id, co_len = cofactor_processing(cos, name='co', id2label=id2label, label2id=label2id)\n",
    "\n",
    "all_cols = [new_ec_col, new_mf_col, new_bp_col, new_cc_col, new_ip_col, new_threed_col, new_co_col]\n",
    "combined_list = [sorted([item for item in list(chain.from_iterable(element)) if item != 0]) for element in zip(*all_cols)]\n",
    "\n",
    "df['EC'] = new_ec_col\n",
    "df['Cofactor'] = new_co_col\n",
    "df['MF'] = new_mf_col\n",
    "df['BP'] = new_bp_col\n",
    "df['CC'] = new_cc_col\n",
    "df['IP'] = new_ip_col\n",
    "df['3D'] = new_threed_col\n",
    "df['combined'] = combined_list\n",
    "df['string_combined'] = df['combined'].astype('string')\n",
    "\n",
    "unique_values = df['string_combined'].unique()\n",
    "\n",
    "# Create a dictionary to store the rows with the longest 'combined' string for each unique value\n",
    "unique_dict = {}\n",
    "\n",
    "# Iterate over the DataFrame and update the dictionary\n",
    "for _, row in tqdm(df.iterrows(), total=len(df)):\n",
    "    combined_value = row['string_combined']\n",
    "    if combined_value not in unique_dict:\n",
    "        unique_dict[combined_value] = row\n",
    "    if combined_value == '[0]':\n",
    "        print(combined_value)\n",
    "\n",
    "# Create the final DataFrame from the dictionary values\n",
    "df_final = pd.DataFrame(unique_dict.values()).drop(columns=['string_combined'])\n",
    "\n",
    "print(\"Final DataFrame length: \", len(df_final))\n",
    "\n",
    "df_final.to_csv('processed_trembl.csv', index=False)"
   ]
  },
  {
   "cell_type": "code",
   "execution_count": null,
   "metadata": {},
   "outputs": [],
   "source": [
    "df = pd.read_csv('processed_swiss_prot.csv', converters={\n",
    "    'EC': literal_eval,\n",
    "    'Cofactor': literal_eval,\n",
    "    'MF': literal_eval,\n",
    "    'BP': literal_eval,\n",
    "    'CC': literal_eval,\n",
    "    'IP': literal_eval,\n",
    "    '3D': literal_eval,\n",
    "    'combined': literal_eval\n",
    "})\n",
    "\n",
    "df['combined'] = df['combined'].apply(set)\n",
    "#df['EC'] = df['EC'].apply(set)\n",
    "#df['Cofactor'] = df['Cofactor'].apply(set)\n",
    "#df['MF'] = df['MF'].apply(set)\n",
    "#df['BP'] = df['BP'].apply(set)\n",
    "#df['CC'] = df['CC'].apply(set)\n",
    "#df['IP'] = df['IP'].apply(set)\n",
    "#df['3D'] = df['3D'].apply(set)\n",
    "df.head(1)"
   ]
  },
  {
   "cell_type": "code",
   "execution_count": null,
   "metadata": {},
   "outputs": [],
   "source": [
    "sets = df['combined'].tolist()\n",
    "\n",
    "n = len(sets)\n",
    "all_indices = set(range(n))\n",
    "aspect_dict = defaultdict(set)\n",
    "\n",
    "for i, s in tqdm(enumerate(sets), total=n):\n",
    "    for item in s:\n",
    "        aspect_dict[item].add(i)"
   ]
  },
  {
   "cell_type": "code",
   "execution_count": null,
   "metadata": {},
   "outputs": [],
   "source": [
    "triplets = {\n",
    "    'EC': [],\n",
    "    'Cofactor': [],\n",
    "    'MF': [],\n",
    "    'BP': [],\n",
    "    'CC': [],\n",
    "    'IP': [],\n",
    "    '3D': []\n",
    "}\n",
    "\n",
    "for i, row in tqdm(df.iterrows(), total=len(df)):\n",
    "    p = row['seqs']\n",
    "\n",
    "    for aspect in triplets.keys():\n",
    "        item = random.choice(row[aspect])\n",
    "        if item != 0:\n",
    "            item_idxs = aspect_dict[item] - {i}\n",
    "            if len(item_idxs) > 0:\n",
    "                a_idx = random.choice(tuple(item_idxs))\n",
    "                a_item = df.loc[a_idx, 'seqs']\n",
    "\n",
    "                n_idx = random.choice(tuple(all_indices - item_idxs))\n",
    "                n_item = df.loc[n_idx, 'seqs']\n",
    "\n",
    "                triplets[aspect].append((p, a_item, n_item))\n",
    "            else:\n",
    "                continue\n",
    "        else:\n",
    "            continue"
   ]
  },
  {
   "cell_type": "code",
   "execution_count": null,
   "metadata": {},
   "outputs": [],
   "source": [
    "for i, (k, v) in enumerate(triplets.items()):\n",
    "    print(len(v))\n",
    "\n",
    "ps, ans, ns, acs = [], [], [], []\n",
    "for i, (k, v) in enumerate(triplets.items()):\n",
    "    for trip in v:\n",
    "        p, a, n = trip\n",
    "        ps.append(p)\n",
    "        ans.append(a)\n",
    "        ns.append(n)\n",
    "        acs.append(i)\n",
    "\n",
    "data = Dataset.from_dict({\n",
    "    'positives':ps,\n",
    "    'anchors':ans,\n",
    "    'negatives':ns,\n",
    "    'aspects':acs\n",
    "})"
   ]
  },
  {
   "cell_type": "code",
   "execution_count": null,
   "metadata": {},
   "outputs": [],
   "source": [
    "data.push_to_hub('lhallee/triplets', split='epoch3')"
   ]
  },
  {
   "cell_type": "code",
   "execution_count": null,
   "metadata": {},
   "outputs": [],
   "source": [
    "import pickle\n",
    "with open('triplets_epoch_1.pkl', 'wb') as f:\n",
    "    pickle.dump(triplets, f)"
   ]
  },
  {
   "cell_type": "code",
   "execution_count": null,
   "metadata": {},
   "outputs": [],
   "source": [
    "# For looking / documenting swiss prot duplicates\n",
    "seqs = df['seqs'].tolist()\n",
    "entry_ids = df['Entry'].tolist()\n",
    "print(len(seqs), len(list(set(seqs))))\n",
    "\n",
    "counts = {}\n",
    "duplicates = {}\n",
    "\n",
    "for i, seq in enumerate(seqs):\n",
    "    if seq in counts:\n",
    "        counts[seq] += 1\n",
    "        duplicates[seq].append(entry_ids[i])\n",
    "    else:\n",
    "        counts[seq] = 1\n",
    "        duplicates[seq] = [entry_ids[i]]\n",
    "\n",
    "# Write duplicates to a text file\n",
    "with open(\"swiss_prot_duplicates.txt\", \"w\") as file:\n",
    "    for seq, ids in duplicates.items():\n",
    "        if len(ids) > 1:\n",
    "            count = len(ids)\n",
    "            file.write(f\"{count}\\t{' '.join(ids)}\\n\")\n",
    "            file.write(f\"{seq}\\n\")"
   ]
  }
 ],
 "metadata": {
  "kernelspec": {
   "display_name": "Python 3",
   "language": "python",
   "name": "python3"
  },
  "language_info": {
   "codemirror_mode": {
    "name": "ipython",
    "version": 3
   },
   "file_extension": ".py",
   "mimetype": "text/x-python",
   "name": "python",
   "nbconvert_exporter": "python",
   "pygments_lexer": "ipython3",
   "version": "3.12.1"
  }
 },
 "nbformat": 4,
 "nbformat_minor": 2
}
