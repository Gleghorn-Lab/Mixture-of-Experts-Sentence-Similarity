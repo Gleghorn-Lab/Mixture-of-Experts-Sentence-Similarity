{
 "cells": [
  {
   "cell_type": "code",
   "execution_count": 31,
   "metadata": {},
   "outputs": [],
   "source": [
    "import re \n",
    "import pandas as pd\n",
    "import numpy as np\n",
    "\n",
    "from tqdm.auto import tqdm"
   ]
  },
  {
   "cell_type": "code",
   "execution_count": 32,
   "metadata": {},
   "outputs": [
    {
     "data": {
      "text/html": [
       "<div>\n",
       "<style scoped>\n",
       "    .dataframe tbody tr th:only-of-type {\n",
       "        vertical-align: middle;\n",
       "    }\n",
       "\n",
       "    .dataframe tbody tr th {\n",
       "        vertical-align: top;\n",
       "    }\n",
       "\n",
       "    .dataframe thead th {\n",
       "        text-align: right;\n",
       "    }\n",
       "</style>\n",
       "<table border=\"1\" class=\"dataframe\">\n",
       "  <thead>\n",
       "    <tr style=\"text-align: right;\">\n",
       "      <th></th>\n",
       "      <th>Entry</th>\n",
       "      <th>EC</th>\n",
       "      <th>Cofactor</th>\n",
       "      <th>MF</th>\n",
       "      <th>BP</th>\n",
       "      <th>CC</th>\n",
       "      <th>IP</th>\n",
       "      <th>3D</th>\n",
       "      <th>seqs</th>\n",
       "    </tr>\n",
       "  </thead>\n",
       "  <tbody>\n",
       "    <tr>\n",
       "      <th>0</th>\n",
       "      <td>A0A009IHW8</td>\n",
       "      <td>3.2.2.-; 3.2.2.6</td>\n",
       "      <td>NaN</td>\n",
       "      <td>NAD(P)+ nucleosidase activity [GO:0050135]; NA...</td>\n",
       "      <td>NAD catabolic process [GO:0019677]; signal tra...</td>\n",
       "      <td>NaN</td>\n",
       "      <td>IPR000157;IPR035897;</td>\n",
       "      <td>3.40.50.10140;</td>\n",
       "      <td>MSLEQKKGADIISKILQIQNSIGKTTSPSTLKTKLSEISRKEQENA...</td>\n",
       "    </tr>\n",
       "    <tr>\n",
       "      <th>1</th>\n",
       "      <td>A0A023I7E1</td>\n",
       "      <td>3.2.1.39</td>\n",
       "      <td>NaN</td>\n",
       "      <td>glucan endo-1,3-beta-D-glucosidase activity [G...</td>\n",
       "      <td>cell wall organization [GO:0071555]; polysacch...</td>\n",
       "      <td>extracellular region [GO:0005576]</td>\n",
       "      <td>IPR005200;IPR040720;IPR040451;</td>\n",
       "      <td>1.10.287.1170;1.20.5.420;</td>\n",
       "      <td>MRFQVIVAAATITMITSYIPGVASQSTSDGDDLFVPVSNFDPKSIF...</td>\n",
       "    </tr>\n",
       "    <tr>\n",
       "      <th>2</th>\n",
       "      <td>A0A024B7W1</td>\n",
       "      <td>2.1.1.56; 2.1.1.57; 2.7.7.48; 3.4.21.91; 3.6.1...</td>\n",
       "      <td>NaN</td>\n",
       "      <td>4 iron, 4 sulfur cluster binding [GO:0051539];...</td>\n",
       "      <td>clathrin-dependent endocytosis of virus by hos...</td>\n",
       "      <td>centrosome [GO:0005813]; extracellular region ...</td>\n",
       "      <td>IPR043502;IPR000069;IPR038302;IPR013755;IPR001...</td>\n",
       "      <td>1.10.10.930;1.10.260.90;1.20.1280.260;2.40.10....</td>\n",
       "      <td>MKNPKKKSGGFRIVNMLKRGVARVSPFGGLKRLPAGLLLGHGPIRM...</td>\n",
       "    </tr>\n",
       "    <tr>\n",
       "      <th>3</th>\n",
       "      <td>A0A024SC78</td>\n",
       "      <td>3.1.1.74</td>\n",
       "      <td>NaN</td>\n",
       "      <td>cutinase activity [GO:0050525]</td>\n",
       "      <td>NaN</td>\n",
       "      <td>extracellular region [GO:0005576]</td>\n",
       "      <td>IPR029058;IPR000675;IPR043580;IPR043579;IPR011...</td>\n",
       "      <td>3.40.50.1820;</td>\n",
       "      <td>MRSLAILTTLLAGHAFAYPKPAPQSVNRRDWPSINEFLSELAKVMP...</td>\n",
       "    </tr>\n",
       "    <tr>\n",
       "      <th>4</th>\n",
       "      <td>A0A024SH76</td>\n",
       "      <td>3.2.1.91</td>\n",
       "      <td>NaN</td>\n",
       "      <td>cellulose 1,4-beta-cellobiosidase activity [GO...</td>\n",
       "      <td>cellulose catabolic process [GO:0030245]</td>\n",
       "      <td>extracellular region [GO:0005576]</td>\n",
       "      <td>IPR016288;IPR036434;IPR035971;IPR000254;IPR001...</td>\n",
       "      <td>3.20.20.40;</td>\n",
       "      <td>MIVGILTTLATLATLAASVPLEERQACSSVWGQCGGQNWSGPTCCA...</td>\n",
       "    </tr>\n",
       "  </tbody>\n",
       "</table>\n",
       "</div>"
      ],
      "text/plain": [
       "        Entry                                                 EC Cofactor  \\\n",
       "0  A0A009IHW8                                   3.2.2.-; 3.2.2.6      NaN   \n",
       "1  A0A023I7E1                                           3.2.1.39      NaN   \n",
       "2  A0A024B7W1  2.1.1.56; 2.1.1.57; 2.7.7.48; 3.4.21.91; 3.6.1...      NaN   \n",
       "3  A0A024SC78                                           3.1.1.74      NaN   \n",
       "4  A0A024SH76                                           3.2.1.91      NaN   \n",
       "\n",
       "                                                  MF  \\\n",
       "0  NAD(P)+ nucleosidase activity [GO:0050135]; NA...   \n",
       "1  glucan endo-1,3-beta-D-glucosidase activity [G...   \n",
       "2  4 iron, 4 sulfur cluster binding [GO:0051539];...   \n",
       "3                     cutinase activity [GO:0050525]   \n",
       "4  cellulose 1,4-beta-cellobiosidase activity [GO...   \n",
       "\n",
       "                                                  BP  \\\n",
       "0  NAD catabolic process [GO:0019677]; signal tra...   \n",
       "1  cell wall organization [GO:0071555]; polysacch...   \n",
       "2  clathrin-dependent endocytosis of virus by hos...   \n",
       "3                                                NaN   \n",
       "4           cellulose catabolic process [GO:0030245]   \n",
       "\n",
       "                                                  CC  \\\n",
       "0                                                NaN   \n",
       "1                  extracellular region [GO:0005576]   \n",
       "2  centrosome [GO:0005813]; extracellular region ...   \n",
       "3                  extracellular region [GO:0005576]   \n",
       "4                  extracellular region [GO:0005576]   \n",
       "\n",
       "                                                  IP  \\\n",
       "0                               IPR000157;IPR035897;   \n",
       "1                     IPR005200;IPR040720;IPR040451;   \n",
       "2  IPR043502;IPR000069;IPR038302;IPR013755;IPR001...   \n",
       "3  IPR029058;IPR000675;IPR043580;IPR043579;IPR011...   \n",
       "4  IPR016288;IPR036434;IPR035971;IPR000254;IPR001...   \n",
       "\n",
       "                                                  3D  \\\n",
       "0                                     3.40.50.10140;   \n",
       "1                          1.10.287.1170;1.20.5.420;   \n",
       "2  1.10.10.930;1.10.260.90;1.20.1280.260;2.40.10....   \n",
       "3                                      3.40.50.1820;   \n",
       "4                                        3.20.20.40;   \n",
       "\n",
       "                                                seqs  \n",
       "0  MSLEQKKGADIISKILQIQNSIGKTTSPSTLKTKLSEISRKEQENA...  \n",
       "1  MRFQVIVAAATITMITSYIPGVASQSTSDGDDLFVPVSNFDPKSIF...  \n",
       "2  MKNPKKKSGGFRIVNMLKRGVARVSPFGGLKRLPAGLLLGHGPIRM...  \n",
       "3  MRSLAILTTLLAGHAFAYPKPAPQSVNRRDWPSINEFLSELAKVMP...  \n",
       "4  MIVGILTTLATLATLAASVPLEERQACSSVWGQCGGQNWSGPTCCA...  "
      ]
     },
     "execution_count": 32,
     "metadata": {},
     "output_type": "execute_result"
    }
   ],
   "source": [
    "df = pd.read_csv('swiss_prot_vec.tsv', delimiter='\\t').rename(columns={\n",
    "    'EC number':'EC',\n",
    "    'Gene Ontology (molecular function)':'MF',\n",
    "    'Gene Ontology (biological process)':'BP',\n",
    "    'Gene Ontology (cellular component)':'CC',\n",
    "    'InterPro':'IP',\n",
    "    'Gene3D':'3D',\n",
    "    'Sequence':'seqs'\n",
    "})\n",
    "df.head()"
   ]
  },
  {
   "cell_type": "code",
   "execution_count": 67,
   "metadata": {},
   "outputs": [],
   "source": [
    "def create_dictionary(input):\n",
    "    output_dict = {}\n",
    "    for index, entry in enumerate(input, start=1):\n",
    "        output_dict[index] = entry\n",
    "    return output_dict\n",
    "\n",
    "\n",
    "def ec_processing(input_list):\n",
    "    output_list = []\n",
    "    for item in tqdm(input_list):\n",
    "        descriptors = str(item).split(';')\n",
    "        filtered_descriptors = [d.strip() for d in descriptors if '-' not in d and 'n' not in d]\n",
    "        if len(filtered_descriptors) > 1:\n",
    "            output_list.extend(filtered_descriptors)\n",
    "        elif len(filtered_descriptors) == 1:\n",
    "            output_list.append(filtered_descriptors[0])\n",
    "        else:\n",
    "            continue\n",
    "    return output_list\n",
    "\n",
    "\n",
    "def go_processing(input_list):\n",
    "    output_list = []\n",
    "    for item in tqdm(input_list):\n",
    "        descriptors = str(item).split(';')\n",
    "        filtered_descriptors = [d[d.find('[GO:')+1:d.find(']')].strip() for d in descriptors]\n",
    "        if len(filtered_descriptors) > 1:\n",
    "            output_list.extend(filtered_descriptors)\n",
    "        elif len(filtered_descriptors) == 1:\n",
    "            output_list.append(filtered_descriptors[0])\n",
    "        else:\n",
    "            continue\n",
    "    return output_list\n",
    "\n",
    "\n",
    "def cofactor_processing(input_list):\n",
    "    output_list = []\n",
    "    for item in tqdm(input_list):\n",
    "        descriptors = str(item).split(';')\n",
    "        filtered_descriptors = [d[d.find('Name=')+5:].strip() for d in descriptors if 'Name' in d]\n",
    "        if len(filtered_descriptors) > 1:\n",
    "            output_list.extend(filtered_descriptors)\n",
    "        elif len(filtered_descriptors) == 1:\n",
    "            output_list.append(filtered_descriptors[0])\n",
    "        else:\n",
    "            continue\n",
    "    return output_list\n",
    "\n",
    "\n",
    "def domain_processing(input_list):\n",
    "    output_list = []\n",
    "    for item in tqdm(input_list):\n",
    "        descriptors = str(item).split(';')\n",
    "        filtered_descriptors = [d.strip() for d in descriptors]\n",
    "        if len(filtered_descriptors) > 1:\n",
    "            output_list.extend(filtered_descriptors)\n",
    "        elif len(filtered_descriptors) == 1:\n",
    "            output_list.append(filtered_descriptors[0])\n",
    "        else:\n",
    "            continue\n",
    "    return output_list\n"
   ]
  },
  {
   "cell_type": "code",
   "execution_count": 33,
   "metadata": {},
   "outputs": [
    {
     "data": {
      "application/vnd.jupyter.widget-view+json": {
       "model_id": "c4a15eb4be8d4b3a84b3b20bb3fd3f46",
       "version_major": 2,
       "version_minor": 0
      },
      "text/plain": [
       "  0%|          | 0/570830 [00:00<?, ?it/s]"
      ]
     },
     "metadata": {},
     "output_type": "display_data"
    },
    {
     "data": {
      "text/plain": [
       "(5487, '1.1.1.1')"
      ]
     },
     "execution_count": 33,
     "metadata": {},
     "output_type": "execute_result"
    }
   ],
   "source": [
    "# EC\n",
    "ecs = df['EC'].tolist()\n",
    "ecs = ec_processing(ecs)\n",
    "ecs = sorted(list(set(ecs)))\n",
    "ec_dict = create_dictionary(ecs)\n",
    "len(ecs), ecs[0]"
   ]
  },
  {
   "cell_type": "code",
   "execution_count": 52,
   "metadata": {},
   "outputs": [
    {
     "data": {
      "application/vnd.jupyter.widget-view+json": {
       "model_id": "b5f44c1e0e8147b78f4c04692b4a65c1",
       "version_major": 2,
       "version_minor": 0
      },
      "text/plain": [
       "  0%|          | 0/570830 [00:00<?, ?it/s]"
      ]
     },
     "metadata": {},
     "output_type": "display_data"
    },
    {
     "data": {
      "text/plain": [
       "(8156, 'GO:0000006')"
      ]
     },
     "execution_count": 52,
     "metadata": {},
     "output_type": "execute_result"
    }
   ],
   "source": [
    "# MF\n",
    "mfs = df['MF'].tolist()\n",
    "mfs = go_processing(mfs)\n",
    "mfs = sorted(list(set(mfs)))\n",
    "mfs.pop(0)\n",
    "mf_dict = create_dictionary(mfs)\n",
    "len(mfs), mfs[0]"
   ]
  },
  {
   "cell_type": "code",
   "execution_count": 56,
   "metadata": {},
   "outputs": [
    {
     "data": {
      "application/vnd.jupyter.widget-view+json": {
       "model_id": "209891e073bf4aa996fad3f7dee16b1a",
       "version_major": 2,
       "version_minor": 0
      },
      "text/plain": [
       "  0%|          | 0/570830 [00:00<?, ?it/s]"
      ]
     },
     "metadata": {},
     "output_type": "display_data"
    },
    {
     "data": {
      "text/plain": [
       "(17892, 'GO:0000001')"
      ]
     },
     "execution_count": 56,
     "metadata": {},
     "output_type": "execute_result"
    }
   ],
   "source": [
    "# BP\n",
    "bps = df['BP'].tolist()\n",
    "bps = go_processing(bps)\n",
    "bps = sorted(list(set(bps)))\n",
    "bps.pop(0)\n",
    "bp_dict = create_dictionary(bps)\n",
    "len(bps), bps[0]"
   ]
  },
  {
   "cell_type": "code",
   "execution_count": 55,
   "metadata": {},
   "outputs": [
    {
     "data": {
      "application/vnd.jupyter.widget-view+json": {
       "model_id": "40effea023b64ffe8d9b6694f603fdf7",
       "version_major": 2,
       "version_minor": 0
      },
      "text/plain": [
       "  0%|          | 0/570830 [00:00<?, ?it/s]"
      ]
     },
     "metadata": {},
     "output_type": "display_data"
    },
    {
     "data": {
      "text/plain": [
       "(2852, 'GO:0000015')"
      ]
     },
     "execution_count": 55,
     "metadata": {},
     "output_type": "execute_result"
    }
   ],
   "source": [
    "# CC\n",
    "ccs = df['CC'].tolist()\n",
    "ccs = go_processing(ccs)\n",
    "ccs = sorted(list(set(ccs)))\n",
    "ccs.pop(0)\n",
    "cc_dict = create_dictionary(ccs)\n",
    "len(ccs), ccs[0]"
   ]
  },
  {
   "cell_type": "code",
   "execution_count": 60,
   "metadata": {},
   "outputs": [
    {
     "data": {
      "application/vnd.jupyter.widget-view+json": {
       "model_id": "2f509e10e59f459c825012bc1fdec59b",
       "version_major": 2,
       "version_minor": 0
      },
      "text/plain": [
       "  0%|          | 0/570830 [00:00<?, ?it/s]"
      ]
     },
     "metadata": {},
     "output_type": "display_data"
    },
    {
     "data": {
      "text/plain": [
       "(33653, 'IPR000001')"
      ]
     },
     "execution_count": 60,
     "metadata": {},
     "output_type": "execute_result"
    }
   ],
   "source": [
    "# IP\n",
    "ips = df['IP'].tolist()\n",
    "ips = domain_processing(ips)\n",
    "ips = sorted(list(set(ips)))\n",
    "ips.pop(0)\n",
    "ip_dict = create_dictionary(ips)\n",
    "len(ips), ips[0]"
   ]
  },
  {
   "cell_type": "code",
   "execution_count": 80,
   "metadata": {},
   "outputs": [
    {
     "data": {
      "application/vnd.jupyter.widget-view+json": {
       "model_id": "76ef423d9291427c98c5ec26c693034c",
       "version_major": 2,
       "version_minor": 0
      },
      "text/plain": [
       "  0%|          | 0/570830 [00:00<?, ?it/s]"
      ]
     },
     "metadata": {},
     "output_type": "display_data"
    },
    {
     "data": {
      "text/plain": [
       "(113, '(6R)-L-erythro-5,6,7,8-tetrahydrobiopterin')"
      ]
     },
     "execution_count": 80,
     "metadata": {},
     "output_type": "execute_result"
    }
   ],
   "source": [
    "# cofactor\n",
    "cos = df['Cofactor'].tolist()\n",
    "cos = cofactor_processing(cos)\n",
    "cos = sorted(list(set(cos)))\n",
    "cos.pop(0)\n",
    "co_dict = create_dictionary(cos)\n",
    "len(cos), cos[0]"
   ]
  },
  {
   "cell_type": "code",
   "execution_count": 83,
   "metadata": {},
   "outputs": [
    {
     "data": {
      "text/plain": [
       "68153"
      ]
     },
     "execution_count": 83,
     "metadata": {},
     "output_type": "execute_result"
    }
   ],
   "source": [
    "all_classes = ecs + mfs + bps + ccs + ips + cos\n",
    "all_dict = create_dictionary(all_classes)\n",
    "len(all_dict.keys())"
   ]
  },
  {
   "cell_type": "code",
   "execution_count": 92,
   "metadata": {},
   "outputs": [
    {
     "data": {
      "text/plain": [
       "(570830, 482684)"
      ]
     },
     "execution_count": 92,
     "metadata": {},
     "output_type": "execute_result"
    }
   ],
   "source": [
    "seqs = df['seqs'].tolist()\n",
    "entry_ids = df['Entry'].tolist()\n",
    "len(seqs), len(list(set(seqs)))"
   ]
  },
  {
   "cell_type": "code",
   "execution_count": 94,
   "metadata": {},
   "outputs": [],
   "source": [
    "counts = {}\n",
    "duplicates = {}\n",
    "\n",
    "for i, seq in enumerate(seqs):\n",
    "    if seq in counts:\n",
    "        counts[seq] += 1\n",
    "        duplicates[seq].append(entry_ids[i])\n",
    "    else:\n",
    "        counts[seq] = 1\n",
    "        duplicates[seq] = [entry_ids[i]]\n",
    "\n",
    "# Write duplicates to a text file\n",
    "with open(\"swiss_prot_duplicates.txt\", \"w\") as file:\n",
    "    for seq, ids in duplicates.items():\n",
    "        if len(ids) > 1:\n",
    "            count = len(ids)\n",
    "            file.write(f\"{count}\\t{' '.join(ids)}\\n\")\n",
    "            file.write(f\"{seq}\\n\")"
   ]
  },
  {
   "cell_type": "code",
   "execution_count": null,
   "metadata": {},
   "outputs": [],
   "source": []
  }
 ],
 "metadata": {
  "kernelspec": {
   "display_name": "Python 3",
   "language": "python",
   "name": "python3"
  },
  "language_info": {
   "codemirror_mode": {
    "name": "ipython",
    "version": 3
   },
   "file_extension": ".py",
   "mimetype": "text/x-python",
   "name": "python",
   "nbconvert_exporter": "python",
   "pygments_lexer": "ipython3",
   "version": "3.12.1"
  }
 },
 "nbformat": 4,
 "nbformat_minor": 2
}
