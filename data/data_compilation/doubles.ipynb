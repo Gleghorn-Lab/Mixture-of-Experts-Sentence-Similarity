{
 "cells": [
  {
   "cell_type": "code",
   "execution_count": 1,
   "metadata": {},
   "outputs": [],
   "source": [
    "import pandas as pd\n",
    "import numpy as np\n",
    "import random\n",
    "import matplotlib.pyplot as plt\n",
    "\n",
    "from itertools import chain\n",
    "from tqdm.auto import tqdm\n",
    "from ast import literal_eval\n",
    "from collections import defaultdict, Counter\n",
    "from datasets import Dataset, concatenate_datasets, load_dataset, DatasetDict\n",
    "tqdm.pandas()"
   ]
  },
  {
   "cell_type": "code",
   "execution_count": 2,
   "metadata": {},
   "outputs": [
    {
     "data": {
      "application/vnd.jupyter.widget-view+json": {
       "model_id": "443d9281e386469294659d9343716575",
       "version_major": 2,
       "version_minor": 0
      },
      "text/plain": [
       "VBox(children=(HTML(value='<center> <img\\nsrc=https://huggingface.co/front/assets/huggingface_logo-noborder.sv…"
      ]
     },
     "metadata": {},
     "output_type": "display_data"
    }
   ],
   "source": [
    "from huggingface_hub import notebook_login\n",
    "notebook_login()"
   ]
  },
  {
   "cell_type": "code",
   "execution_count": null,
   "metadata": {},
   "outputs": [],
   "source": [
    "# Functions\n",
    "def load_df(path):\n",
    "    df = pd.read_csv(path, delimiter='\\t').rename(columns={\n",
    "        'EC number':'EC',\n",
    "        'Gene Ontology (molecular function)':'MF',\n",
    "        'Gene Ontology (biological process)':'BP',\n",
    "        'Gene Ontology (cellular component)':'CC',\n",
    "        'Sequence':'seqs'\n",
    "    }).astype('string')\n",
    "    print(len(df))\n",
    "    df['combined'] = df.progress_apply(lambda x: ' '.join(str(x[col]) for col in df.columns if col != 'seqs'), axis=1)\n",
    "    df = df.sort_values(by='combined', key=lambda x: x.str.len(), ascending=False)\n",
    "    df = df.drop_duplicates(subset='seqs', keep='first')\n",
    "    df = df.drop('combined', axis=1)\n",
    "    df = df.reset_index(drop=True)\n",
    "    print(len(df))\n",
    "    return df\n",
    "\n",
    "\n",
    "def create_dictionary(input, start=1, name='ec'):\n",
    "    id2label, label2id = {}, {}\n",
    "    for index, entry in enumerate(input, start=start):\n",
    "        entry = entry + '_' + name\n",
    "        id2label[index] = entry\n",
    "        label2id[entry] = index\n",
    "    return id2label, label2id\n",
    "\n",
    "\n",
    "def process_descriptors(input_list,\n",
    "                        start=1,\n",
    "                        name='ec',\n",
    "                        id2label=None,\n",
    "                        label2id=None,\n",
    "                        filter_func=lambda d: d.strip()):\n",
    "    col_list, new_col = [], []\n",
    "\n",
    "    if id2label == None or label2id == None:\n",
    "        for item in tqdm(input_list, desc=f'{name} make dicts'):\n",
    "            descriptors = str(item).split(';')\n",
    "            filtered_descriptors = [filter_func(d) for d in descriptors]\n",
    "            filtered_descriptors = [d for d in filtered_descriptors if d and d.lower() != 'none' and d.lower() != 'nan']\n",
    "            col_list.extend(filtered_descriptors)\n",
    "        col_list = sorted(list(set(col_list)))\n",
    "        if '' in col_list:\n",
    "            col_list.remove('')\n",
    "        len_col_list = len(col_list)\n",
    "        id2label, label2id = create_dictionary(col_list, start=start, name=name)\n",
    "    else:\n",
    "        len_col_list = len(id2label.keys())\n",
    "\n",
    "    for item in tqdm(input_list, desc=f'{name} make new column'):\n",
    "        descriptors = str(item).split(';')\n",
    "        filtered_descriptors = [filter_func(d) for d in descriptors]\n",
    "        filtered_descriptors = [d for d in filtered_descriptors if d and d.lower() != 'none' and d.lower() != 'nan']\n",
    "        new_entry = [label2id[d + '_' + name] for d in filtered_descriptors if d] or [0]\n",
    "        new_col.append(new_entry)\n",
    "\n",
    "    return new_col, id2label, label2id, len_col_list + start\n",
    "\n",
    "\n",
    "def ec_processing(input_list, start=1, name='ec', id2label=None, label2id=None):\n",
    "    return process_descriptors(input_list, start=start, name=name, id2label=id2label, label2id=label2id,\n",
    "                               filter_func=lambda d: d.strip() if '-' not in d and 'n' not in d else '')\n",
    "\n",
    "\n",
    "def go_processing(input_list, start=1, name='go', id2label=None, label2id=None):\n",
    "    return process_descriptors(input_list, start=start, name=name, id2label=id2label, label2id=label2id,\n",
    "                               filter_func=lambda d: d[d.find('[GO:')+1:d.find(']')].strip())\n",
    "\n",
    "\n",
    "def cofactor_processing(input_list, start=1, name='co', id2label=None, label2id=None):\n",
    "    return process_descriptors(input_list, start=start, name=name, id2label=id2label, label2id=label2id,\n",
    "                               filter_func=lambda d: d[d.find('Name=')+5:].strip() if 'Name' in d else '')\n",
    "\n",
    "\n",
    "def domain_processing(input_list, start=1, name='ip', id2label=None, label2id=None):\n",
    "    return process_descriptors(input_list, start=start, name=name, id2label=id2label, label2id=label2id)\n",
    "\n",
    "\n",
    "def replace_df(df, all_cols):\n",
    "    new_ec_col, new_mf_col, new_bp_col, new_cc_col = all_cols\n",
    "    combined_list = [sorted([item for item in list(chain.from_iterable(element)) if item != 0])\n",
    "                     for element in zip(*all_cols) if element != [0]]\n",
    "\n",
    "    df['EC'] = new_ec_col\n",
    "    df['MF'] = new_mf_col\n",
    "    df['BP'] = new_bp_col\n",
    "    df['CC'] = new_cc_col\n",
    "    df['combined'] = combined_list\n",
    "    df['string_combined'] = df['combined'].astype('string')\n",
    "\n",
    "    unique_dict = {}\n",
    "\n",
    "    # Iterate over the DataFrame and update the dictionary\n",
    "    for _, row in tqdm(df.iterrows(), total=len(df)):\n",
    "        combined_value = row['string_combined']\n",
    "        if combined_value not in unique_dict:\n",
    "            unique_dict[combined_value] = row\n",
    "        if combined_value == '[0]':\n",
    "            print(combined_value)\n",
    "\n",
    "    # Create the final DataFrame from the dictionary values\n",
    "    df_final = pd.DataFrame(unique_dict.values()).drop(columns=['string_combined'])\n",
    "    return df_final"
   ]
  },
  {
   "cell_type": "code",
   "execution_count": null,
   "metadata": {},
   "outputs": [],
   "source": [
    "# Train data\n",
    "df = load_df('doubles.tsv')\n",
    "# EC\n",
    "ecs = df['EC'].tolist()\n",
    "new_ec_col, id2ec, ec2id, ec_len = ec_processing(ecs, name='ec', start=1)\n",
    "# MF\n",
    "mfs = df['MF'].tolist()\n",
    "new_mf_col, id2mf, mf2id, mf_len = go_processing(mfs, name='mf', start=ec_len+1)\n",
    "# BP\n",
    "bps = df['BP'].tolist()\n",
    "new_bp_col, id2bp, bp2id, bp_len = go_processing(bps, name='bp', start=mf_len+1)\n",
    "# CC\n",
    "ccs = df['CC'].tolist()\n",
    "new_cc_col, id2cc, cc2id, cc_len = go_processing(ccs, name='cc', start=bp_len+1)\n",
    "\n",
    "# make full dicts and check for no duplicates\n",
    "all_id = [id2ec, id2mf, id2bp, id2cc]\n",
    "all_label = [ec2id, mf2id, bp2id, cc2id]\n",
    "\n",
    "id2label, label2id = {}, {}\n",
    "\n",
    "key_counts = 0\n",
    "for d in all_id:\n",
    "    key_counts += len(d.keys())\n",
    "    id2label.update(d)\n",
    "print(key_counts)\n",
    "\n",
    "key_counts = 0\n",
    "for d in all_label:\n",
    "    key_counts += len(d.keys())\n",
    "    label2id.update(d)\n",
    "print(key_counts)\n",
    "\n",
    "for k, v in id2label.items():\n",
    "    if k != label2id[v]:\n",
    "        print(v)\n",
    "\n",
    "for k, v in label2id.items():\n",
    "    if k != id2label[v]:\n",
    "        print(v)\n",
    "\n",
    "print(len(id2label.keys()), len(label2id.keys()))\n",
    "\n",
    "all_cols = [new_ec_col, new_mf_col, new_bp_col, new_cc_col]\n",
    "\n",
    "df_final = replace_df(df, all_cols)\n",
    "\n",
    "print(len(df_final))\n",
    "\n",
    "df_final.to_csv('processed_doubles.csv', index=False)"
   ]
  },
  {
   "cell_type": "code",
   "execution_count": null,
   "metadata": {},
   "outputs": [],
   "source": [
    "# Test data\n",
    "df = load_df('trembl_all_aspects_raw.tsv')\n",
    "# EC\n",
    "ecs = df['EC'].tolist()\n",
    "new_ec_col, id2ec, ec2id, ec_len = ec_processing(ecs, name='ec', start=1)\n",
    "# MF\n",
    "mfs = df['MF'].tolist()\n",
    "new_mf_col, id2mf, mf2id, mf_len = go_processing(mfs, name='mf', start=ec_len+1)\n",
    "# BP\n",
    "bps = df['BP'].tolist()\n",
    "new_bp_col, id2bp, bp2id, bp_len = go_processing(bps, name='bp', start=mf_len+1)\n",
    "# CC\n",
    "ccs = df['CC'].tolist()\n",
    "new_cc_col, id2cc, cc2id, cc_len = go_processing(ccs, name='cc', start=bp_len+1)\n",
    "# IP\n",
    "ips = df['IP'].tolist()\n",
    "new_ip_col, id2ip, ip2id, ip_len = domain_processing(ips, name='ip', start=cc_len+1)\n",
    "# 3D\n",
    "threeds = df['3D'].tolist()\n",
    "new_threed_col, id2threed, threed2id, threed_len = domain_processing(threeds, name='3d', start=ip_len+1)\n",
    "# cofactor\n",
    "cos = df['Cofactor'].tolist()\n",
    "new_co_col, id2co, co2id, co_len = cofactor_processing(cos, name='co', start=threed_len+1)\n",
    "\n",
    "\n",
    "all_cols = [new_ec_col, new_mf_col, new_bp_col, new_cc_col, new_ip_col, new_threed_col, new_co_col]\n",
    "df = replace_df(df, all_cols)\n",
    "\n",
    "# remove dups\n",
    "for col in df.columns:\n",
    "    mask = df[col].apply(lambda x: x != [0]\n",
    "                        and (not isinstance(x, list) or len(x) > 0)\n",
    "                        and (not isinstance(x, str) or x.strip() != '[]'))\n",
    "    df = df.loc[mask]\n",
    "\n",
    "df_filtered = df[~df['seqs'].isin(df_final['seqs'])]\n",
    "\n",
    "print(len(df_filtered))\n",
    "df_filtered.to_csv('processed_trembl.csv', index=False)"
   ]
  },
  {
   "cell_type": "code",
   "execution_count": null,
   "metadata": {},
   "outputs": [],
   "source": [
    "# Loading previously processed\n",
    "df = pd.read_csv('processed_doubles.csv', converters={\n",
    "    'EC': literal_eval,\n",
    "    'MF': literal_eval,\n",
    "    'BP': literal_eval,\n",
    "    'CC': literal_eval,\n",
    "    'combined': literal_eval\n",
    "})\n",
    "\n",
    "df['combined'] = df['combined'].apply(set)\n",
    "\n",
    "ec_aspect = df['EC'].apply(set).tolist()\n",
    "mf_aspect = df['MF'].apply(set).tolist()\n",
    "bp_aspect = df['BP'].apply(set).tolist()\n",
    "cc_aspect = df['CC'].apply(set).tolist()\n",
    "\n",
    "single_aspect_dict = {\n",
    "    'EC': ec_aspect,\n",
    "    'MF': mf_aspect,\n",
    "    'BP': bp_aspect,\n",
    "    'CC': cc_aspect,\n",
    "}\n",
    "\n",
    "print(df.head(1))\n",
    "\n",
    "sets = df['combined'].tolist()"
   ]
  },
  {
   "cell_type": "code",
   "execution_count": null,
   "metadata": {},
   "outputs": [],
   "source": [
    "def retrieve_pairs(seqs, indices):\n",
    "    A, B = [], []\n",
    "    for i, j in indices:\n",
    "        A.append(seqs[i])\n",
    "        B.append(seqs[j])\n",
    "    return A, B\n",
    "\n",
    "\n",
    "def flatten_and_count(tuples_list):\n",
    "    flattened_list = [item for tuple_item in tuples_list for item in tuple_item]\n",
    "    element_counts = Counter(flattened_list)\n",
    "    most_repeated_element, count = element_counts.most_common(1)[0]\n",
    "    return most_repeated_element, count\n",
    "\n",
    "\n",
    "def make_pairs_nonredundant(pairs, max_count=10):\n",
    "    index_count = defaultdict(int)\n",
    "    seen_pairs = set()\n",
    "    nonredundant_pairs = []\n",
    "    sorted_pairs = sorted(pairs, key=lambda x: index_count[x[0]] + index_count[x[1]])\n",
    "    for pair in tqdm(sorted_pairs, desc='Making non redundant'):\n",
    "        i, j = pair\n",
    "        if (i, j) not in seen_pairs and (j, i) not in seen_pairs:\n",
    "            if index_count[i] < max_count and index_count[j] < max_count:\n",
    "                nonredundant_pairs.append(pair)\n",
    "                seen_pairs.add((i, j))\n",
    "                index_count[i] += 1\n",
    "                index_count[j] += 1\n",
    "    return nonredundant_pairs\n",
    "\n",
    "\n",
    "def calculate_similar_sets(sets):\n",
    "    pairs_10, pairs_30, pairs_50, pairs_70 = [], [], [], []\n",
    "    count_10, count_30, count_50, count_70 = 0, 0, 0, 0\n",
    "    len_sets = len(sets)\n",
    "    set_range = set(list(range(len_sets)))\n",
    "    for i in tqdm(set_range, desc='Measuring set similarity'):\n",
    "        set_i = sets[i]\n",
    "        new_range = set_range - {i}\n",
    "        for j in new_range:\n",
    "            set_j = sets[j]\n",
    "            intersection = set_i & set_j\n",
    "            union = set_i.union(set_j)\n",
    "            similarity = len(intersection) / len(union)\n",
    "            if similarity >= 0.1:\n",
    "                count_10 += 1\n",
    "                pairs_10.append((i, j))\n",
    "            if similarity >= 0.3:\n",
    "                count_30 += 1\n",
    "                pairs_30.append((i, j))\n",
    "            if similarity >= 0.5:\n",
    "                count_50 += 1\n",
    "                pairs_50.append((i, j))\n",
    "            if similarity >= 0.7:\n",
    "                count_70 += 1\n",
    "                pairs_70.append((i, j))\n",
    "    pairs = (pairs_10, pairs_30, pairs_50, pairs_70)\n",
    "    counts = (count_10, count_30, count_50, count_70)\n",
    "    return pairs, counts"
   ]
  },
  {
   "cell_type": "code",
   "execution_count": null,
   "metadata": {},
   "outputs": [],
   "source": [
    "pairs, counts = calculate_similar_sets(sets)"
   ]
  },
  {
   "cell_type": "code",
   "execution_count": null,
   "metadata": {},
   "outputs": [],
   "source": [
    "print('Percents')\n",
    "for count in counts:\n",
    "    print(f'{count * 100 / (len(sets) ** 2)}%')\n",
    "print('Redundant pair length')\n",
    "for pair in pairs:\n",
    "    print(len(pair) / 1e6)"
   ]
  },
  {
   "cell_type": "code",
   "execution_count": null,
   "metadata": {},
   "outputs": [],
   "source": [
    "non_10 = make_pairs_nonredundant(pairs[0])\n",
    "non_30 = make_pairs_nonredundant(pairs[1])\n",
    "non_50 = make_pairs_nonredundant(pairs[2])\n",
    "non_70 = make_pairs_nonredundant(pairs[3])\n",
    "len(non_10), len(non_30), len(non_50), len(non_70)"
   ]
  },
  {
   "cell_type": "code",
   "execution_count": null,
   "metadata": {},
   "outputs": [],
   "source": [
    "seqs = df['seqs'].tolist()\n",
    "seqs[0]"
   ]
  },
  {
   "cell_type": "code",
   "execution_count": null,
   "metadata": {},
   "outputs": [],
   "source": [
    "a10, b10 = retrieve_pairs(seqs, non_10)\n",
    "a30, b30 = retrieve_pairs(seqs, non_30)\n",
    "a50, b50 = retrieve_pairs(seqs, non_50)\n",
    "a70, b70 = retrieve_pairs(seqs, non_70)\n",
    "\n",
    "data = DatasetDict({\n",
    "    '10': Dataset.from_dict({\n",
    "        'a': a10,\n",
    "        'b': b10\n",
    "    }),\n",
    "    '30': Dataset.from_dict({\n",
    "        'a': a30,\n",
    "        'b': b30\n",
    "    }),\n",
    "    '50': Dataset.from_dict({\n",
    "        'a': a50,\n",
    "        'b': b50\n",
    "    }),\n",
    "    '70': Dataset.from_dict({\n",
    "        'a': a70,\n",
    "        'b': b70\n",
    "    })\n",
    "})\n",
    "data"
   ]
  },
  {
   "cell_type": "code",
   "execution_count": null,
   "metadata": {},
   "outputs": [],
   "source": [
    "data = Dataset.from_dict({\n",
    "    'a':a50,\n",
    "    'b':b50\n",
    "})\n",
    "data"
   ]
  },
  {
   "cell_type": "code",
   "execution_count": null,
   "metadata": {},
   "outputs": [],
   "source": [
    "data.push_to_hub('lhallee/ProteinDoublesAll', private=True)"
   ]
  },
  {
   "cell_type": "code",
   "execution_count": null,
   "metadata": {},
   "outputs": [],
   "source": [
    "split = data.train_test_split(test_size=5000, seed=42)\n",
    "test_valid = split['test'].train_test_split(test_size=2500)\n",
    "valid_set = test_valid['train']\n",
    "test_set = test_valid['test']\n",
    "print(f\"Validation set size: {valid_set.num_rows}\")\n",
    "print(f\"Test set size: {test_set.num_rows}\")"
   ]
  },
  {
   "cell_type": "code",
   "execution_count": null,
   "metadata": {},
   "outputs": [],
   "source": [
    "double_dataset = DatasetDict({\n",
    "    'train':split['train'],\n",
    "    'valid':valid_set,\n",
    "    'test':test_set\n",
    "})\n",
    "double_dataset"
   ]
  },
  {
   "cell_type": "code",
   "execution_count": null,
   "metadata": {},
   "outputs": [],
   "source": [
    "double_dataset.push_to_hub('lhallee/ProteinDouble50', private=True)"
   ]
  },
  {
   "cell_type": "code",
   "execution_count": 3,
   "metadata": {},
   "outputs": [
    {
     "data": {
      "application/vnd.jupyter.widget-view+json": {
       "model_id": "62552cc15a7447c9974a5f395a258801",
       "version_major": 2,
       "version_minor": 0
      },
      "text/plain": [
       "Downloading readme:   0%|          | 0.00/605 [00:00<?, ?B/s]"
      ]
     },
     "metadata": {},
     "output_type": "display_data"
    },
    {
     "data": {
      "application/vnd.jupyter.widget-view+json": {
       "model_id": "401ab050a19f4098bd9f05eb996b226c",
       "version_major": 2,
       "version_minor": 0
      },
      "text/plain": [
       "Downloading data:   0%|          | 0.00/96.9M [00:00<?, ?B/s]"
      ]
     },
     "metadata": {},
     "output_type": "display_data"
    },
    {
     "data": {
      "application/vnd.jupyter.widget-view+json": {
       "model_id": "e33c75859982469d8d52aec57e202c9b",
       "version_major": 2,
       "version_minor": 0
      },
      "text/plain": [
       "Downloading data:   0%|          | 0.00/118M [00:00<?, ?B/s]"
      ]
     },
     "metadata": {},
     "output_type": "display_data"
    },
    {
     "data": {
      "application/vnd.jupyter.widget-view+json": {
       "model_id": "ffe92daf7c5741a9b07e05d5c42ac299",
       "version_major": 2,
       "version_minor": 0
      },
      "text/plain": [
       "Downloading data:   0%|          | 0.00/85.6M [00:00<?, ?B/s]"
      ]
     },
     "metadata": {},
     "output_type": "display_data"
    },
    {
     "data": {
      "application/vnd.jupyter.widget-view+json": {
       "model_id": "3e68b5477e874c798be97784263215e7",
       "version_major": 2,
       "version_minor": 0
      },
      "text/plain": [
       "Downloading data:   0%|          | 0.00/39.4M [00:00<?, ?B/s]"
      ]
     },
     "metadata": {},
     "output_type": "display_data"
    },
    {
     "data": {
      "application/vnd.jupyter.widget-view+json": {
       "model_id": "9e68e87d3c044219b31b99522b330f38",
       "version_major": 2,
       "version_minor": 0
      },
      "text/plain": [
       "Generating 10 split:   0%|          | 0/275452 [00:00<?, ? examples/s]"
      ]
     },
     "metadata": {},
     "output_type": "display_data"
    },
    {
     "data": {
      "application/vnd.jupyter.widget-view+json": {
       "model_id": "01f36ccb526c433ca0a1a0452895d671",
       "version_major": 2,
       "version_minor": 0
      },
      "text/plain": [
       "Generating 30 split:   0%|          | 0/234053 [00:00<?, ? examples/s]"
      ]
     },
     "metadata": {},
     "output_type": "display_data"
    },
    {
     "data": {
      "application/vnd.jupyter.widget-view+json": {
       "model_id": "abc4fdbb1cf741d4abb92df66cc33dbc",
       "version_major": 2,
       "version_minor": 0
      },
      "text/plain": [
       "Generating 50 split:   0%|          | 0/158003 [00:00<?, ? examples/s]"
      ]
     },
     "metadata": {},
     "output_type": "display_data"
    },
    {
     "data": {
      "application/vnd.jupyter.widget-view+json": {
       "model_id": "53e23ff7f2324144baf5e29759300082",
       "version_major": 2,
       "version_minor": 0
      },
      "text/plain": [
       "Generating 70 split:   0%|          | 0/61766 [00:00<?, ? examples/s]"
      ]
     },
     "metadata": {},
     "output_type": "display_data"
    },
    {
     "data": {
      "text/plain": [
       "DatasetDict({\n",
       "    10: Dataset({\n",
       "        features: ['a', 'b'],\n",
       "        num_rows: 275452\n",
       "    })\n",
       "    30: Dataset({\n",
       "        features: ['a', 'b'],\n",
       "        num_rows: 234053\n",
       "    })\n",
       "    50: Dataset({\n",
       "        features: ['a', 'b'],\n",
       "        num_rows: 158003\n",
       "    })\n",
       "    70: Dataset({\n",
       "        features: ['a', 'b'],\n",
       "        num_rows: 61766\n",
       "    })\n",
       "})"
      ]
     },
     "execution_count": 3,
     "metadata": {},
     "output_type": "execute_result"
    }
   ],
   "source": [
    "full_data = load_dataset('lhallee/ProteinDoublesAll')\n",
    "full_data"
   ]
  },
  {
   "cell_type": "code",
   "execution_count": 5,
   "metadata": {},
   "outputs": [
    {
     "ename": "NameError",
     "evalue": "name 'dat' is not defined",
     "output_type": "error",
     "traceback": [
      "\u001b[1;31m---------------------------------------------------------------------------\u001b[0m",
      "\u001b[1;31mNameError\u001b[0m                                 Traceback (most recent call last)",
      "Cell \u001b[1;32mIn[5], line 2\u001b[0m\n\u001b[0;32m      1\u001b[0m data \u001b[38;5;241m=\u001b[39m load_dataset(\u001b[38;5;124m'\u001b[39m\u001b[38;5;124mlhallee/ProteinDouble50\u001b[39m\u001b[38;5;124m'\u001b[39m)\n\u001b[1;32m----> 2\u001b[0m \u001b[43mdat\u001b[49m\n",
      "\u001b[1;31mNameError\u001b[0m: name 'dat' is not defined"
     ]
    }
   ],
   "source": [
    "data = load_dataset('lhallee/ProteinDouble50')"
   ]
  },
  {
   "cell_type": "code",
   "execution_count": 7,
   "metadata": {},
   "outputs": [
    {
     "data": {
      "text/plain": [
       "Dataset({\n",
       "    features: ['a', 'b'],\n",
       "    num_rows: 234053\n",
       "})"
      ]
     },
     "execution_count": 7,
     "metadata": {},
     "output_type": "execute_result"
    }
   ],
   "source": [
    "train = full_data[\"30\"]\n",
    "train"
   ]
  },
  {
   "cell_type": "code",
   "execution_count": 8,
   "metadata": {},
   "outputs": [
    {
     "data": {
      "text/plain": [
       "(Dataset({\n",
       "     features: ['a', 'b'],\n",
       "     num_rows: 2500\n",
       " }),\n",
       " Dataset({\n",
       "     features: ['a', 'b'],\n",
       "     num_rows: 2500\n",
       " }))"
      ]
     },
     "execution_count": 8,
     "metadata": {},
     "output_type": "execute_result"
    }
   ],
   "source": [
    "valid = data['valid']\n",
    "test = data['test']\n",
    "valid, test"
   ]
  },
  {
   "cell_type": "code",
   "execution_count": 9,
   "metadata": {},
   "outputs": [],
   "source": [
    "new_data = DatasetDict({\n",
    "    'train':train,\n",
    "    'valid':valid,\n",
    "    'test':test\n",
    "})"
   ]
  },
  {
   "cell_type": "code",
   "execution_count": 10,
   "metadata": {},
   "outputs": [
    {
     "data": {
      "text/plain": [
       "DatasetDict({\n",
       "    train: Dataset({\n",
       "        features: ['a', 'b'],\n",
       "        num_rows: 234053\n",
       "    })\n",
       "    valid: Dataset({\n",
       "        features: ['a', 'b'],\n",
       "        num_rows: 2500\n",
       "    })\n",
       "    test: Dataset({\n",
       "        features: ['a', 'b'],\n",
       "        num_rows: 2500\n",
       "    })\n",
       "})"
      ]
     },
     "execution_count": 10,
     "metadata": {},
     "output_type": "execute_result"
    }
   ],
   "source": [
    "new_data"
   ]
  },
  {
   "cell_type": "code",
   "execution_count": 11,
   "metadata": {},
   "outputs": [
    {
     "data": {
      "application/vnd.jupyter.widget-view+json": {
       "model_id": "4f8f184c08b04ee6b03f0d51bb82db69",
       "version_major": 2,
       "version_minor": 0
      },
      "text/plain": [
       "Uploading the dataset shards:   0%|          | 0/1 [00:00<?, ?it/s]"
      ]
     },
     "metadata": {},
     "output_type": "display_data"
    },
    {
     "data": {
      "application/vnd.jupyter.widget-view+json": {
       "model_id": "9d2b4b84d714468b9450095381fc06b4",
       "version_major": 2,
       "version_minor": 0
      },
      "text/plain": [
       "Creating parquet from Arrow format:   0%|          | 0/235 [00:00<?, ?ba/s]"
      ]
     },
     "metadata": {},
     "output_type": "display_data"
    },
    {
     "data": {
      "application/vnd.jupyter.widget-view+json": {
       "model_id": "93b5b91642d349a3865640a9619aec5e",
       "version_major": 2,
       "version_minor": 0
      },
      "text/plain": [
       "Uploading the dataset shards:   0%|          | 0/1 [00:00<?, ?it/s]"
      ]
     },
     "metadata": {},
     "output_type": "display_data"
    },
    {
     "data": {
      "application/vnd.jupyter.widget-view+json": {
       "model_id": "962e096f61ed4bc190862e17c5ce0019",
       "version_major": 2,
       "version_minor": 0
      },
      "text/plain": [
       "Creating parquet from Arrow format:   0%|          | 0/3 [00:00<?, ?ba/s]"
      ]
     },
     "metadata": {},
     "output_type": "display_data"
    },
    {
     "data": {
      "application/vnd.jupyter.widget-view+json": {
       "model_id": "a6f5bfa56de94cd0b2b9f02e832954b2",
       "version_major": 2,
       "version_minor": 0
      },
      "text/plain": [
       "Uploading the dataset shards:   0%|          | 0/1 [00:00<?, ?it/s]"
      ]
     },
     "metadata": {},
     "output_type": "display_data"
    },
    {
     "data": {
      "application/vnd.jupyter.widget-view+json": {
       "model_id": "5590223059fb42ce98f49860e7818299",
       "version_major": 2,
       "version_minor": 0
      },
      "text/plain": [
       "Creating parquet from Arrow format:   0%|          | 0/3 [00:00<?, ?ba/s]"
      ]
     },
     "metadata": {},
     "output_type": "display_data"
    },
    {
     "data": {
      "text/plain": [
       "CommitInfo(commit_url='https://huggingface.co/datasets/lhallee/ProteinDouble30/commit/f517188b2da808461aa4f75fe1d0f85381a2a2ab', commit_message='Upload dataset', commit_description='', oid='f517188b2da808461aa4f75fe1d0f85381a2a2ab', pr_url=None, pr_revision=None, pr_num=None)"
      ]
     },
     "execution_count": 11,
     "metadata": {},
     "output_type": "execute_result"
    }
   ],
   "source": [
    "new_data.push_to_hub('lhallee/ProteinDouble30')"
   ]
  },
  {
   "cell_type": "code",
   "execution_count": null,
   "metadata": {},
   "outputs": [],
   "source": []
  }
 ],
 "metadata": {
  "kernelspec": {
   "display_name": "Python 3",
   "language": "python",
   "name": "python3"
  },
  "language_info": {
   "codemirror_mode": {
    "name": "ipython",
    "version": 3
   },
   "file_extension": ".py",
   "mimetype": "text/x-python",
   "name": "python",
   "nbconvert_exporter": "python",
   "pygments_lexer": "ipython3",
   "version": "3.11.9"
  }
 },
 "nbformat": 4,
 "nbformat_minor": 2
}
